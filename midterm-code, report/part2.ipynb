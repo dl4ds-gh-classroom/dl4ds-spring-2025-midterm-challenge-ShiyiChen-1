{
 "cells": [
  {
   "cell_type": "code",
   "execution_count": 1,
   "id": "416606c3",
   "metadata": {},
   "outputs": [
    {
     "name": "stdout",
     "output_type": "stream",
     "text": [
      "Requirement already satisfied: torch in /usr4/dl4ds/shiychen/.local/lib/python3.10/site-packages (2.6.0)\n",
      "Requirement already satisfied: filelock in /share/pkg.8/python3/3.10.12/install/lib/python3.10/site-packages (from torch) (3.12.2)\n",
      "Requirement already satisfied: typing-extensions>=4.10.0 in /usr4/dl4ds/shiychen/.local/lib/python3.10/site-packages (from torch) (4.12.2)\n",
      "Requirement already satisfied: networkx in /share/pkg.8/python3/3.10.12/install/lib/python3.10/site-packages (from torch) (3.1)\n",
      "Requirement already satisfied: jinja2 in /share/pkg.8/python3/3.10.12/install/lib/python3.10/site-packages (from torch) (3.1.2)\n",
      "Requirement already satisfied: fsspec in /share/pkg.8/python3/3.10.12/install/lib/python3.10/site-packages (from torch) (2023.6.0)\n",
      "Requirement already satisfied: nvidia-cuda-nvrtc-cu12==12.4.127 in /usr4/dl4ds/shiychen/.local/lib/python3.10/site-packages (from torch) (12.4.127)\n",
      "Requirement already satisfied: nvidia-cuda-runtime-cu12==12.4.127 in /usr4/dl4ds/shiychen/.local/lib/python3.10/site-packages (from torch) (12.4.127)\n",
      "Requirement already satisfied: nvidia-cuda-cupti-cu12==12.4.127 in /usr4/dl4ds/shiychen/.local/lib/python3.10/site-packages (from torch) (12.4.127)\n",
      "Requirement already satisfied: nvidia-cudnn-cu12==9.1.0.70 in /usr4/dl4ds/shiychen/.local/lib/python3.10/site-packages (from torch) (9.1.0.70)\n",
      "Requirement already satisfied: nvidia-cublas-cu12==12.4.5.8 in /usr4/dl4ds/shiychen/.local/lib/python3.10/site-packages (from torch) (12.4.5.8)\n",
      "Requirement already satisfied: nvidia-cufft-cu12==11.2.1.3 in /usr4/dl4ds/shiychen/.local/lib/python3.10/site-packages (from torch) (11.2.1.3)\n",
      "Requirement already satisfied: nvidia-curand-cu12==10.3.5.147 in /usr4/dl4ds/shiychen/.local/lib/python3.10/site-packages (from torch) (10.3.5.147)\n",
      "Requirement already satisfied: nvidia-cusolver-cu12==11.6.1.9 in /usr4/dl4ds/shiychen/.local/lib/python3.10/site-packages (from torch) (11.6.1.9)\n",
      "Requirement already satisfied: nvidia-cusparse-cu12==12.3.1.170 in /usr4/dl4ds/shiychen/.local/lib/python3.10/site-packages (from torch) (12.3.1.170)\n",
      "Requirement already satisfied: nvidia-cusparselt-cu12==0.6.2 in /usr4/dl4ds/shiychen/.local/lib/python3.10/site-packages (from torch) (0.6.2)\n",
      "Requirement already satisfied: nvidia-nccl-cu12==2.21.5 in /usr4/dl4ds/shiychen/.local/lib/python3.10/site-packages (from torch) (2.21.5)\n",
      "Requirement already satisfied: nvidia-nvtx-cu12==12.4.127 in /usr4/dl4ds/shiychen/.local/lib/python3.10/site-packages (from torch) (12.4.127)\n",
      "Requirement already satisfied: nvidia-nvjitlink-cu12==12.4.127 in /usr4/dl4ds/shiychen/.local/lib/python3.10/site-packages (from torch) (12.4.127)\n",
      "Requirement already satisfied: triton==3.2.0 in /usr4/dl4ds/shiychen/.local/lib/python3.10/site-packages (from torch) (3.2.0)\n",
      "Requirement already satisfied: sympy==1.13.1 in /usr4/dl4ds/shiychen/.local/lib/python3.10/site-packages (from torch) (1.13.1)\n",
      "Requirement already satisfied: mpmath<1.4,>=1.1.0 in /share/pkg.8/python3/3.10.12/install/lib/python3.10/site-packages (from sympy==1.13.1->torch) (1.3.0)\n",
      "Requirement already satisfied: MarkupSafe>=2.0 in /share/pkg.8/python3/3.10.12/install/lib/python3.10/site-packages (from jinja2->torch) (2.1.3)\n",
      "\n",
      "\u001b[1m[\u001b[0m\u001b[34;49mnotice\u001b[0m\u001b[1;39;49m]\u001b[0m\u001b[39;49m A new release of pip is available: \u001b[0m\u001b[31;49m23.2.1\u001b[0m\u001b[39;49m -> \u001b[0m\u001b[32;49m25.0.1\u001b[0m\n",
      "\u001b[1m[\u001b[0m\u001b[34;49mnotice\u001b[0m\u001b[1;39;49m]\u001b[0m\u001b[39;49m To update, run: \u001b[0m\u001b[32;49mpip install --upgrade pip\u001b[0m\n",
      "2.6.0+cu124\n",
      "Requirement already satisfied: torchvision in /usr4/dl4ds/shiychen/.local/lib/python3.10/site-packages (0.21.0)\n",
      "Requirement already satisfied: numpy in /share/pkg.8/python3/3.10.12/install/lib/python3.10/site-packages (from torchvision) (1.24.4)\n",
      "Requirement already satisfied: torch==2.6.0 in /usr4/dl4ds/shiychen/.local/lib/python3.10/site-packages (from torchvision) (2.6.0)\n",
      "Requirement already satisfied: pillow!=8.3.*,>=5.3.0 in /share/pkg.8/python3/3.10.12/install/lib/python3.10/site-packages (from torchvision) (10.0.0)\n",
      "Requirement already satisfied: filelock in /share/pkg.8/python3/3.10.12/install/lib/python3.10/site-packages (from torch==2.6.0->torchvision) (3.12.2)\n",
      "Requirement already satisfied: typing-extensions>=4.10.0 in /usr4/dl4ds/shiychen/.local/lib/python3.10/site-packages (from torch==2.6.0->torchvision) (4.12.2)\n",
      "Requirement already satisfied: networkx in /share/pkg.8/python3/3.10.12/install/lib/python3.10/site-packages (from torch==2.6.0->torchvision) (3.1)\n",
      "Requirement already satisfied: jinja2 in /share/pkg.8/python3/3.10.12/install/lib/python3.10/site-packages (from torch==2.6.0->torchvision) (3.1.2)\n",
      "Requirement already satisfied: fsspec in /share/pkg.8/python3/3.10.12/install/lib/python3.10/site-packages (from torch==2.6.0->torchvision) (2023.6.0)\n",
      "Requirement already satisfied: nvidia-cuda-nvrtc-cu12==12.4.127 in /usr4/dl4ds/shiychen/.local/lib/python3.10/site-packages (from torch==2.6.0->torchvision) (12.4.127)\n",
      "Requirement already satisfied: nvidia-cuda-runtime-cu12==12.4.127 in /usr4/dl4ds/shiychen/.local/lib/python3.10/site-packages (from torch==2.6.0->torchvision) (12.4.127)\n",
      "Requirement already satisfied: nvidia-cuda-cupti-cu12==12.4.127 in /usr4/dl4ds/shiychen/.local/lib/python3.10/site-packages (from torch==2.6.0->torchvision) (12.4.127)\n",
      "Requirement already satisfied: nvidia-cudnn-cu12==9.1.0.70 in /usr4/dl4ds/shiychen/.local/lib/python3.10/site-packages (from torch==2.6.0->torchvision) (9.1.0.70)\n",
      "Requirement already satisfied: nvidia-cublas-cu12==12.4.5.8 in /usr4/dl4ds/shiychen/.local/lib/python3.10/site-packages (from torch==2.6.0->torchvision) (12.4.5.8)\n",
      "Requirement already satisfied: nvidia-cufft-cu12==11.2.1.3 in /usr4/dl4ds/shiychen/.local/lib/python3.10/site-packages (from torch==2.6.0->torchvision) (11.2.1.3)\n",
      "Requirement already satisfied: nvidia-curand-cu12==10.3.5.147 in /usr4/dl4ds/shiychen/.local/lib/python3.10/site-packages (from torch==2.6.0->torchvision) (10.3.5.147)\n",
      "Requirement already satisfied: nvidia-cusolver-cu12==11.6.1.9 in /usr4/dl4ds/shiychen/.local/lib/python3.10/site-packages (from torch==2.6.0->torchvision) (11.6.1.9)\n",
      "Requirement already satisfied: nvidia-cusparse-cu12==12.3.1.170 in /usr4/dl4ds/shiychen/.local/lib/python3.10/site-packages (from torch==2.6.0->torchvision) (12.3.1.170)\n",
      "Requirement already satisfied: nvidia-cusparselt-cu12==0.6.2 in /usr4/dl4ds/shiychen/.local/lib/python3.10/site-packages (from torch==2.6.0->torchvision) (0.6.2)\n",
      "Requirement already satisfied: nvidia-nccl-cu12==2.21.5 in /usr4/dl4ds/shiychen/.local/lib/python3.10/site-packages (from torch==2.6.0->torchvision) (2.21.5)\n",
      "Requirement already satisfied: nvidia-nvtx-cu12==12.4.127 in /usr4/dl4ds/shiychen/.local/lib/python3.10/site-packages (from torch==2.6.0->torchvision) (12.4.127)\n",
      "Requirement already satisfied: nvidia-nvjitlink-cu12==12.4.127 in /usr4/dl4ds/shiychen/.local/lib/python3.10/site-packages (from torch==2.6.0->torchvision) (12.4.127)\n",
      "Requirement already satisfied: triton==3.2.0 in /usr4/dl4ds/shiychen/.local/lib/python3.10/site-packages (from torch==2.6.0->torchvision) (3.2.0)\n",
      "Requirement already satisfied: sympy==1.13.1 in /usr4/dl4ds/shiychen/.local/lib/python3.10/site-packages (from torch==2.6.0->torchvision) (1.13.1)\n",
      "Requirement already satisfied: mpmath<1.4,>=1.1.0 in /share/pkg.8/python3/3.10.12/install/lib/python3.10/site-packages (from sympy==1.13.1->torch==2.6.0->torchvision) (1.3.0)\n",
      "Requirement already satisfied: MarkupSafe>=2.0 in /share/pkg.8/python3/3.10.12/install/lib/python3.10/site-packages (from jinja2->torch==2.6.0->torchvision) (2.1.3)\n",
      "\n",
      "\u001b[1m[\u001b[0m\u001b[34;49mnotice\u001b[0m\u001b[1;39;49m]\u001b[0m\u001b[39;49m A new release of pip is available: \u001b[0m\u001b[31;49m23.2.1\u001b[0m\u001b[39;49m -> \u001b[0m\u001b[32;49m25.0.1\u001b[0m\n",
      "\u001b[1m[\u001b[0m\u001b[34;49mnotice\u001b[0m\u001b[1;39;49m]\u001b[0m\u001b[39;49m To update, run: \u001b[0m\u001b[32;49mpip install --upgrade pip\u001b[0m\n",
      "0.21.0+cu124\n"
     ]
    }
   ],
   "source": [
    "import sys\n",
    "!{sys.executable} -m pip install --user torch\n",
    "import torch\n",
    "print(torch.__version__)\n",
    "!{sys.executable} -m pip install --user torchvision\n",
    "import torchvision\n",
    "print(torchvision.__version__)"
   ]
  },
  {
   "cell_type": "code",
   "execution_count": 2,
   "id": "initial_id",
   "metadata": {
    "jupyter": {
     "is_executing": true
    }
   },
   "outputs": [
    {
     "name": "stdout",
     "output_type": "stream",
     "text": [
      "\n",
      "CONFIG Dictionary:\n",
      "{'batch_size': 64,\n",
      " 'data_dir': './data',\n",
      " 'device': 'cuda',\n",
      " 'epochs': 5,\n",
      " 'learning_rate': 0.005,\n",
      " 'model': 'AdvancedCNN',\n",
      " 'num_workers': 4,\n",
      " 'ood_dir': './data/ood-test',\n",
      " 'seed': 42,\n",
      " 'wandb_project': 'sp25-ds542-challenge'}\n"
     ]
    },
    {
     "name": "stderr",
     "output_type": "stream",
     "text": [
      "/usr4/dl4ds/shiychen/.local/lib/python3.10/site-packages/torchvision/models/_utils.py:208: UserWarning: The parameter 'pretrained' is deprecated since 0.13 and may be removed in the future, please use 'weights' instead.\n",
      "  warnings.warn(\n",
      "/usr4/dl4ds/shiychen/.local/lib/python3.10/site-packages/torchvision/models/_utils.py:223: UserWarning: Arguments other than a weight enum or `None` for 'weights' are deprecated since 0.13 and may be removed in the future. The current behavior is equivalent to passing `weights=None`.\n",
      "  warnings.warn(msg)\n"
     ]
    },
    {
     "name": "stdout",
     "output_type": "stream",
     "text": [
      "\n",
      "Model summary:\n",
      "AdvancedCNN(\n",
      "  (model): ResNet(\n",
      "    (conv1): Conv2d(3, 64, kernel_size=(3, 3), stride=(1, 1), padding=(1, 1), bias=False)\n",
      "    (bn1): BatchNorm2d(64, eps=1e-05, momentum=0.1, affine=True, track_running_stats=True)\n",
      "    (relu): ReLU(inplace=True)\n",
      "    (maxpool): Identity()\n",
      "    (layer1): Sequential(\n",
      "      (0): BasicBlock(\n",
      "        (conv1): Conv2d(64, 64, kernel_size=(3, 3), stride=(1, 1), padding=(1, 1), bias=False)\n",
      "        (bn1): BatchNorm2d(64, eps=1e-05, momentum=0.1, affine=True, track_running_stats=True)\n",
      "        (relu): ReLU(inplace=True)\n",
      "        (conv2): Conv2d(64, 64, kernel_size=(3, 3), stride=(1, 1), padding=(1, 1), bias=False)\n",
      "        (bn2): BatchNorm2d(64, eps=1e-05, momentum=0.1, affine=True, track_running_stats=True)\n",
      "      )\n",
      "      (1): BasicBlock(\n",
      "        (conv1): Conv2d(64, 64, kernel_size=(3, 3), stride=(1, 1), padding=(1, 1), bias=False)\n",
      "        (bn1): BatchNorm2d(64, eps=1e-05, momentum=0.1, affine=True, track_running_stats=True)\n",
      "        (relu): ReLU(inplace=True)\n",
      "        (conv2): Conv2d(64, 64, kernel_size=(3, 3), stride=(1, 1), padding=(1, 1), bias=False)\n",
      "        (bn2): BatchNorm2d(64, eps=1e-05, momentum=0.1, affine=True, track_running_stats=True)\n",
      "      )\n",
      "    )\n",
      "    (layer2): Sequential(\n",
      "      (0): BasicBlock(\n",
      "        (conv1): Conv2d(64, 128, kernel_size=(3, 3), stride=(2, 2), padding=(1, 1), bias=False)\n",
      "        (bn1): BatchNorm2d(128, eps=1e-05, momentum=0.1, affine=True, track_running_stats=True)\n",
      "        (relu): ReLU(inplace=True)\n",
      "        (conv2): Conv2d(128, 128, kernel_size=(3, 3), stride=(1, 1), padding=(1, 1), bias=False)\n",
      "        (bn2): BatchNorm2d(128, eps=1e-05, momentum=0.1, affine=True, track_running_stats=True)\n",
      "        (downsample): Sequential(\n",
      "          (0): Conv2d(64, 128, kernel_size=(1, 1), stride=(2, 2), bias=False)\n",
      "          (1): BatchNorm2d(128, eps=1e-05, momentum=0.1, affine=True, track_running_stats=True)\n",
      "        )\n",
      "      )\n",
      "      (1): BasicBlock(\n",
      "        (conv1): Conv2d(128, 128, kernel_size=(3, 3), stride=(1, 1), padding=(1, 1), bias=False)\n",
      "        (bn1): BatchNorm2d(128, eps=1e-05, momentum=0.1, affine=True, track_running_stats=True)\n",
      "        (relu): ReLU(inplace=True)\n",
      "        (conv2): Conv2d(128, 128, kernel_size=(3, 3), stride=(1, 1), padding=(1, 1), bias=False)\n",
      "        (bn2): BatchNorm2d(128, eps=1e-05, momentum=0.1, affine=True, track_running_stats=True)\n",
      "      )\n",
      "    )\n",
      "    (layer3): Sequential(\n",
      "      (0): BasicBlock(\n",
      "        (conv1): Conv2d(128, 256, kernel_size=(3, 3), stride=(2, 2), padding=(1, 1), bias=False)\n",
      "        (bn1): BatchNorm2d(256, eps=1e-05, momentum=0.1, affine=True, track_running_stats=True)\n",
      "        (relu): ReLU(inplace=True)\n",
      "        (conv2): Conv2d(256, 256, kernel_size=(3, 3), stride=(1, 1), padding=(1, 1), bias=False)\n",
      "        (bn2): BatchNorm2d(256, eps=1e-05, momentum=0.1, affine=True, track_running_stats=True)\n",
      "        (downsample): Sequential(\n",
      "          (0): Conv2d(128, 256, kernel_size=(1, 1), stride=(2, 2), bias=False)\n",
      "          (1): BatchNorm2d(256, eps=1e-05, momentum=0.1, affine=True, track_running_stats=True)\n",
      "        )\n",
      "      )\n",
      "      (1): BasicBlock(\n",
      "        (conv1): Conv2d(256, 256, kernel_size=(3, 3), stride=(1, 1), padding=(1, 1), bias=False)\n",
      "        (bn1): BatchNorm2d(256, eps=1e-05, momentum=0.1, affine=True, track_running_stats=True)\n",
      "        (relu): ReLU(inplace=True)\n",
      "        (conv2): Conv2d(256, 256, kernel_size=(3, 3), stride=(1, 1), padding=(1, 1), bias=False)\n",
      "        (bn2): BatchNorm2d(256, eps=1e-05, momentum=0.1, affine=True, track_running_stats=True)\n",
      "      )\n",
      "    )\n",
      "    (layer4): Sequential(\n",
      "      (0): BasicBlock(\n",
      "        (conv1): Conv2d(256, 512, kernel_size=(3, 3), stride=(2, 2), padding=(1, 1), bias=False)\n",
      "        (bn1): BatchNorm2d(512, eps=1e-05, momentum=0.1, affine=True, track_running_stats=True)\n",
      "        (relu): ReLU(inplace=True)\n",
      "        (conv2): Conv2d(512, 512, kernel_size=(3, 3), stride=(1, 1), padding=(1, 1), bias=False)\n",
      "        (bn2): BatchNorm2d(512, eps=1e-05, momentum=0.1, affine=True, track_running_stats=True)\n",
      "        (downsample): Sequential(\n",
      "          (0): Conv2d(256, 512, kernel_size=(1, 1), stride=(2, 2), bias=False)\n",
      "          (1): BatchNorm2d(512, eps=1e-05, momentum=0.1, affine=True, track_running_stats=True)\n",
      "        )\n",
      "      )\n",
      "      (1): BasicBlock(\n",
      "        (conv1): Conv2d(512, 512, kernel_size=(3, 3), stride=(1, 1), padding=(1, 1), bias=False)\n",
      "        (bn1): BatchNorm2d(512, eps=1e-05, momentum=0.1, affine=True, track_running_stats=True)\n",
      "        (relu): ReLU(inplace=True)\n",
      "        (conv2): Conv2d(512, 512, kernel_size=(3, 3), stride=(1, 1), padding=(1, 1), bias=False)\n",
      "        (bn2): BatchNorm2d(512, eps=1e-05, momentum=0.1, affine=True, track_running_stats=True)\n",
      "      )\n",
      "    )\n",
      "    (avgpool): AdaptiveAvgPool2d(output_size=(1, 1))\n",
      "    (fc): Linear(in_features=512, out_features=100, bias=True)\n",
      "  )\n",
      ")\n",
      "\n"
     ]
    },
    {
     "name": "stderr",
     "output_type": "stream",
     "text": [
      "Failed to detect the name of this notebook, you can set it manually with the WANDB_NOTEBOOK_NAME environment variable to enable code saving.\n",
      "\u001b[34m\u001b[1mwandb\u001b[0m: Currently logged in as: \u001b[33mshiychen\u001b[0m (\u001b[33mshiychen-boston-university\u001b[0m). Use \u001b[1m`wandb login --relogin`\u001b[0m to force relogin\n"
     ]
    },
    {
     "data": {
      "text/html": [
       "wandb version 0.19.8 is available!  To upgrade, please run:\n",
       " $ pip install wandb --upgrade"
      ],
      "text/plain": [
       "<IPython.core.display.HTML object>"
      ]
     },
     "metadata": {},
     "output_type": "display_data"
    },
    {
     "data": {
      "text/html": [
       "Tracking run with wandb version 0.15.5"
      ],
      "text/plain": [
       "<IPython.core.display.HTML object>"
      ]
     },
     "metadata": {},
     "output_type": "display_data"
    },
    {
     "data": {
      "text/html": [
       "Run data is saved locally in <code>/usr4/dl4ds/shiychen/ondemand/wandb/run-20250325_192958-itgsr82b</code>"
      ],
      "text/plain": [
       "<IPython.core.display.HTML object>"
      ]
     },
     "metadata": {},
     "output_type": "display_data"
    },
    {
     "data": {
      "text/html": [
       "Syncing run <strong><a href='https://wandb.ai/shiychen-boston-university/-sp25-ds542-challenge/runs/itgsr82b' target=\"_blank\">misunderstood-pond-65</a></strong> to <a href='https://wandb.ai/shiychen-boston-university/-sp25-ds542-challenge' target=\"_blank\">Weights & Biases</a> (<a href='https://wandb.me/run' target=\"_blank\">docs</a>)<br/>"
      ],
      "text/plain": [
       "<IPython.core.display.HTML object>"
      ]
     },
     "metadata": {},
     "output_type": "display_data"
    },
    {
     "data": {
      "text/html": [
       " View project at <a href='https://wandb.ai/shiychen-boston-university/-sp25-ds542-challenge' target=\"_blank\">https://wandb.ai/shiychen-boston-university/-sp25-ds542-challenge</a>"
      ],
      "text/plain": [
       "<IPython.core.display.HTML object>"
      ]
     },
     "metadata": {},
     "output_type": "display_data"
    },
    {
     "data": {
      "text/html": [
       " View run at <a href='https://wandb.ai/shiychen-boston-university/-sp25-ds542-challenge/runs/itgsr82b' target=\"_blank\">https://wandb.ai/shiychen-boston-university/-sp25-ds542-challenge/runs/itgsr82b</a>"
      ],
      "text/plain": [
       "<IPython.core.display.HTML object>"
      ]
     },
     "metadata": {},
     "output_type": "display_data"
    },
    {
     "data": {
      "application/vnd.jupyter.widget-view+json": {
       "model_id": "ce6063d7acff4c929f46db00c545db30",
       "version_major": 2,
       "version_minor": 0
      },
      "text/plain": [
       "Epoch 1/5 [Train]:   0%|          | 0/625 [00:00<?, ?it/s]"
      ]
     },
     "metadata": {},
     "output_type": "display_data"
    },
    {
     "data": {
      "application/vnd.jupyter.widget-view+json": {
       "model_id": "cdc55ae957174b359592e9e52a1af0d1",
       "version_major": 2,
       "version_minor": 0
      },
      "text/plain": [
       "[Validate]:   0%|          | 0/157 [00:00<?, ?it/s]"
      ]
     },
     "metadata": {},
     "output_type": "display_data"
    },
    {
     "name": "stderr",
     "output_type": "stream",
     "text": [
      "Exception ignored in: <function _MultiProcessingDataLoaderIter.__del__ at 0x14b4316bd510>\n",
      "Traceback (most recent call last):\n",
      "  File \"/usr4/dl4ds/shiychen/.local/lib/python3.10/site-packages/torch/utils/data/dataloader.py\", line 1618, in __del__\n",
      "    self._shutdown_workers()\n",
      "  File \"/usr4/dl4ds/shiychen/.local/lib/python3.10/site-packages/torch/utils/data/dataloader.py\", line 1601, in _shutdown_workers\n",
      "    if w.is_alive():\n",
      "Exception ignored in:   File \"/share/pkg.8/python3/3.10.12/install/lib/python3.10/multiprocessing/process.py\", line 160, in is_alive\n",
      "<function _MultiProcessingDataLoaderIter.__del__ at 0x14b4316bd510>    \n",
      "assert self._parent_pid == os.getpid(), 'can only test a child process'Traceback (most recent call last):\n",
      "\n",
      "  File \"/usr4/dl4ds/shiychen/.local/lib/python3.10/site-packages/torch/utils/data/dataloader.py\", line 1618, in __del__\n",
      "AssertionError:     can only test a child processself._shutdown_workers()\n",
      "\n",
      "  File \"/usr4/dl4ds/shiychen/.local/lib/python3.10/site-packages/torch/utils/data/dataloader.py\", line 1601, in _shutdown_workers\n",
      "    if w.is_alive():\n",
      "  File \"/share/pkg.8/python3/3.10.12/install/lib/python3.10/multiprocessing/process.py\", line 160, in is_alive\n",
      "Exception ignored in:     <function _MultiProcessingDataLoaderIter.__del__ at 0x14b4316bd510>assert self._parent_pid == os.getpid(), 'can only test a child process'\n",
      "\n",
      "AssertionErrorTraceback (most recent call last):\n",
      ":   File \"/usr4/dl4ds/shiychen/.local/lib/python3.10/site-packages/torch/utils/data/dataloader.py\", line 1618, in __del__\n",
      "can only test a child process\n",
      "    self._shutdown_workers()\n",
      "  File \"/usr4/dl4ds/shiychen/.local/lib/python3.10/site-packages/torch/utils/data/dataloader.py\", line 1601, in _shutdown_workers\n",
      "    if w.is_alive():\n",
      "  File \"/share/pkg.8/python3/3.10.12/install/lib/python3.10/multiprocessing/process.py\", line 160, in is_alive\n",
      "    assert self._parent_pid == os.getpid(), 'can only test a child process'Exception ignored in: \n",
      "<function _MultiProcessingDataLoaderIter.__del__ at 0x14b4316bd510>AssertionError\n",
      ": Traceback (most recent call last):\n",
      "can only test a child process  File \"/usr4/dl4ds/shiychen/.local/lib/python3.10/site-packages/torch/utils/data/dataloader.py\", line 1618, in __del__\n",
      "\n",
      "    self._shutdown_workers()\n",
      "  File \"/usr4/dl4ds/shiychen/.local/lib/python3.10/site-packages/torch/utils/data/dataloader.py\", line 1601, in _shutdown_workers\n",
      "    if w.is_alive():\n",
      "  File \"/share/pkg.8/python3/3.10.12/install/lib/python3.10/multiprocessing/process.py\", line 160, in is_alive\n",
      "    assert self._parent_pid == os.getpid(), 'can only test a child process'\n",
      "AssertionError: can only test a child process\n"
     ]
    },
    {
     "data": {
      "application/vnd.jupyter.widget-view+json": {
       "model_id": "e5930cb74eb44dab8add1b1e351ccae0",
       "version_major": 2,
       "version_minor": 0
      },
      "text/plain": [
       "Epoch 2/5 [Train]:   0%|          | 0/625 [00:00<?, ?it/s]"
      ]
     },
     "metadata": {},
     "output_type": "display_data"
    },
    {
     "name": "stderr",
     "output_type": "stream",
     "text": [
      "Exception ignored in:   File \"/usr4/dl4ds/shiychen/.local/lib/python3.10/site-packages/torch/utils/data/dataloader.py\", line 1618, in __del__\n",
      "<function _MultiProcessingDataLoaderIter.__del__ at 0x14b4316bd510>\n",
      "Traceback (most recent call last):\n",
      "    self._shutdown_workers()\n",
      "  File \"/usr4/dl4ds/shiychen/.local/lib/python3.10/site-packages/torch/utils/data/dataloader.py\", line 1601, in _shutdown_workers\n",
      "    if w.is_alive():\n",
      "  File \"/share/pkg.8/python3/3.10.12/install/lib/python3.10/multiprocessing/process.py\", line 160, in is_alive\n",
      "    assert self._parent_pid == os.getpid(), 'can only test a child process'\n",
      "AssertionError: can only test a child process\n",
      "Exception ignored in: <function _MultiProcessingDataLoaderIter.__del__ at 0x14b4316bd510>\n",
      "Traceback (most recent call last):\n",
      "  File \"/usr4/dl4ds/shiychen/.local/lib/python3.10/site-packages/torch/utils/data/dataloader.py\", line 1618, in __del__\n",
      "    self._shutdown_workers()\n",
      "  File \"/usr4/dl4ds/shiychen/.local/lib/python3.10/site-packages/torch/utils/data/dataloader.py\", line 1601, in _shutdown_workers\n",
      "    if w.is_alive():\n",
      "  File \"/share/pkg.8/python3/3.10.12/install/lib/python3.10/multiprocessing/process.py\", line 160, in is_alive\n",
      "    assert self._parent_pid == os.getpid(), 'can only test a child process'\n",
      "AssertionError: can only test a child process\n",
      "Exception ignored in: <function _MultiProcessingDataLoaderIter.__del__ at 0x14b4316bd510>\n",
      "Traceback (most recent call last):\n",
      "  File \"/usr4/dl4ds/shiychen/.local/lib/python3.10/site-packages/torch/utils/data/dataloader.py\", line 1618, in __del__\n",
      "    self._shutdown_workers()\n",
      "  File \"/usr4/dl4ds/shiychen/.local/lib/python3.10/site-packages/torch/utils/data/dataloader.py\", line 1601, in _shutdown_workers\n",
      "    if w.is_alive():\n",
      "  File \"/share/pkg.8/python3/3.10.12/install/lib/python3.10/multiprocessing/process.py\", line 160, in is_alive\n",
      "    assert self._parent_pid == os.getpid(), 'can only test a child process'\n",
      "AssertionError: can only test a child process\n",
      "Exception ignored in: <function _MultiProcessingDataLoaderIter.__del__ at 0x14b4316bd510>\n",
      "Traceback (most recent call last):\n",
      "  File \"/usr4/dl4ds/shiychen/.local/lib/python3.10/site-packages/torch/utils/data/dataloader.py\", line 1618, in __del__\n",
      "    self._shutdown_workers()\n",
      "  File \"/usr4/dl4ds/shiychen/.local/lib/python3.10/site-packages/torch/utils/data/dataloader.py\", line 1601, in _shutdown_workers\n",
      "    if w.is_alive():\n",
      "  File \"/share/pkg.8/python3/3.10.12/install/lib/python3.10/multiprocessing/process.py\", line 160, in is_alive\n",
      "    assert self._parent_pid == os.getpid(), 'can only test a child process'\n",
      "AssertionError: can only test a child process\n",
      "Exception ignored in: <function _MultiProcessingDataLoaderIter.__del__ at 0x14b4316bd510>\n",
      "Traceback (most recent call last):\n",
      "  File \"/usr4/dl4ds/shiychen/.local/lib/python3.10/site-packages/torch/utils/data/dataloader.py\", line 1618, in __del__\n",
      "    self._shutdown_workers()\n",
      "  File \"/usr4/dl4ds/shiychen/.local/lib/python3.10/site-packages/torch/utils/data/dataloader.py\", line 1601, in _shutdown_workers\n",
      "    if w.is_alive():\n",
      "  File \"/share/pkg.8/python3/3.10.12/install/lib/python3.10/multiprocessing/process.py\", line 160, in is_alive\n",
      "    assert self._parent_pid == os.getpid(), 'can only test a child process'\n",
      "AssertionError: can only test a child process\n",
      "Exception ignored in: <function _MultiProcessingDataLoaderIter.__del__ at 0x14b4316bd510>\n",
      "Traceback (most recent call last):\n",
      "  File \"/usr4/dl4ds/shiychen/.local/lib/python3.10/site-packages/torch/utils/data/dataloader.py\", line 1618, in __del__\n",
      "    self._shutdown_workers()\n",
      "  File \"/usr4/dl4ds/shiychen/.local/lib/python3.10/site-packages/torch/utils/data/dataloader.py\", line 1601, in _shutdown_workers\n",
      "    if w.is_alive():\n",
      "  File \"/share/pkg.8/python3/3.10.12/install/lib/python3.10/multiprocessing/process.py\", line 160, in is_alive\n",
      "    assert self._parent_pid == os.getpid(), 'can only test a child process'\n",
      "AssertionError: can only test a child process\n",
      "Exception ignored in: <function _MultiProcessingDataLoaderIter.__del__ at 0x14b4316bd510>\n",
      "Traceback (most recent call last):\n",
      "  File \"/usr4/dl4ds/shiychen/.local/lib/python3.10/site-packages/torch/utils/data/dataloader.py\", line 1618, in __del__\n",
      "    self._shutdown_workers()\n",
      "  File \"/usr4/dl4ds/shiychen/.local/lib/python3.10/site-packages/torch/utils/data/dataloader.py\", line 1601, in _shutdown_workers\n",
      "    if w.is_alive():\n",
      "  File \"/share/pkg.8/python3/3.10.12/install/lib/python3.10/multiprocessing/process.py\", line 160, in is_alive\n",
      "    assert self._parent_pid == os.getpid(), 'can only test a child process'\n",
      "AssertionError: can only test a child process\n",
      "Exception ignored in: <function _MultiProcessingDataLoaderIter.__del__ at 0x14b4316bd510>\n",
      "Traceback (most recent call last):\n",
      "  File \"/usr4/dl4ds/shiychen/.local/lib/python3.10/site-packages/torch/utils/data/dataloader.py\", line 1618, in __del__\n",
      "    self._shutdown_workers()\n",
      "  File \"/usr4/dl4ds/shiychen/.local/lib/python3.10/site-packages/torch/utils/data/dataloader.py\", line 1601, in _shutdown_workers\n",
      "    if w.is_alive():\n",
      "  File \"/share/pkg.8/python3/3.10.12/install/lib/python3.10/multiprocessing/process.py\", line 160, in is_alive\n",
      "    assert self._parent_pid == os.getpid(), 'can only test a child process'AssertionError\n",
      ": can only test a child process\n",
      "/share/pkg.8/python3/3.10.12/install/lib/python3.10/site-packages/wandb/wandb_torch.py:193: UserWarning: The torch.cuda.*DtypeTensor constructors are no longer recommended. It's best to use methods such as torch.tensor(data, dtype=*, device='cuda') to create tensors. (Triggered internally at /pytorch/torch/csrc/tensor/python_tensor.cpp:78.)\n",
      "  check = torch.cuda.FloatTensor(1).fill_(0)\n"
     ]
    },
    {
     "data": {
      "application/vnd.jupyter.widget-view+json": {
       "model_id": "94806232019f4abdb8786428b1d1b756",
       "version_major": 2,
       "version_minor": 0
      },
      "text/plain": [
       "[Validate]:   0%|          | 0/157 [00:00<?, ?it/s]"
      ]
     },
     "metadata": {},
     "output_type": "display_data"
    },
    {
     "data": {
      "application/vnd.jupyter.widget-view+json": {
       "model_id": "a18817babd23471c823de475f6371fd6",
       "version_major": 2,
       "version_minor": 0
      },
      "text/plain": [
       "Epoch 3/5 [Train]:   0%|          | 0/625 [00:00<?, ?it/s]"
      ]
     },
     "metadata": {},
     "output_type": "display_data"
    },
    {
     "data": {
      "application/vnd.jupyter.widget-view+json": {
       "model_id": "e5088db831f64e59a3596f621007410f",
       "version_major": 2,
       "version_minor": 0
      },
      "text/plain": [
       "[Validate]:   0%|          | 0/157 [00:00<?, ?it/s]"
      ]
     },
     "metadata": {},
     "output_type": "display_data"
    },
    {
     "data": {
      "application/vnd.jupyter.widget-view+json": {
       "model_id": "c0d0b0a2e85f4c20940fee6d83984733",
       "version_major": 2,
       "version_minor": 0
      },
      "text/plain": [
       "Epoch 4/5 [Train]:   0%|          | 0/625 [00:00<?, ?it/s]"
      ]
     },
     "metadata": {},
     "output_type": "display_data"
    },
    {
     "data": {
      "application/vnd.jupyter.widget-view+json": {
       "model_id": "ca8aeac9285146819e07341255b9426f",
       "version_major": 2,
       "version_minor": 0
      },
      "text/plain": [
       "[Validate]:   0%|          | 0/157 [00:00<?, ?it/s]"
      ]
     },
     "metadata": {},
     "output_type": "display_data"
    },
    {
     "data": {
      "application/vnd.jupyter.widget-view+json": {
       "model_id": "316996a596e0454fb3e585de853fc165",
       "version_major": 2,
       "version_minor": 0
      },
      "text/plain": [
       "Epoch 5/5 [Train]:   0%|          | 0/625 [00:00<?, ?it/s]"
      ]
     },
     "metadata": {},
     "output_type": "display_data"
    },
    {
     "name": "stderr",
     "output_type": "stream",
     "text": [
      "Exception ignored in: <function _MultiProcessingDataLoaderIter.__del__ at 0x14b4316bd510>\n",
      "Traceback (most recent call last):\n",
      "  File \"/usr4/dl4ds/shiychen/.local/lib/python3.10/site-packages/torch/utils/data/dataloader.py\", line 1618, in __del__\n",
      "    self._shutdown_workers()\n",
      "  File \"/usr4/dl4ds/shiychen/.local/lib/python3.10/site-packages/torch/utils/data/dataloader.py\", line 1601, in _shutdown_workers\n",
      "    if w.is_alive():\n",
      "  File \"/share/pkg.8/python3/3.10.12/install/lib/python3.10/multiprocessing/process.py\", line 160, in is_alive\n",
      "    assert self._parent_pid == os.getpid(), 'can only test a child process'\n",
      "AssertionError: can only test a child process\n",
      "Exception ignored in: <function _MultiProcessingDataLoaderIter.__del__ at 0x14b4316bd510>\n",
      "Traceback (most recent call last):\n",
      "  File \"/usr4/dl4ds/shiychen/.local/lib/python3.10/site-packages/torch/utils/data/dataloader.py\", line 1618, in __del__\n",
      "    self._shutdown_workers()\n",
      "  File \"/usr4/dl4ds/shiychen/.local/lib/python3.10/site-packages/torch/utils/data/dataloader.py\", line 1601, in _shutdown_workers\n",
      "    if w.is_alive():\n",
      "  File \"/share/pkg.8/python3/3.10.12/install/lib/python3.10/multiprocessing/process.py\", line 160, in is_alive\n",
      "    assert self._parent_pid == os.getpid(), 'can only test a child process'\n",
      "AssertionError: can only test a child process\n",
      "Exception ignored in: <function _MultiProcessingDataLoaderIter.__del__ at 0x14b4316bd510>\n",
      "Traceback (most recent call last):\n",
      "Exception ignored in:   File \"/usr4/dl4ds/shiychen/.local/lib/python3.10/site-packages/torch/utils/data/dataloader.py\", line 1618, in __del__\n",
      "<function _MultiProcessingDataLoaderIter.__del__ at 0x14b4316bd510>\n",
      "    Traceback (most recent call last):\n",
      "self._shutdown_workers()  File \"/usr4/dl4ds/shiychen/.local/lib/python3.10/site-packages/torch/utils/data/dataloader.py\", line 1618, in __del__\n",
      "\n",
      "  File \"/usr4/dl4ds/shiychen/.local/lib/python3.10/site-packages/torch/utils/data/dataloader.py\", line 1601, in _shutdown_workers\n",
      "    self._shutdown_workers()    if w.is_alive():\n",
      "\n",
      "  File \"/usr4/dl4ds/shiychen/.local/lib/python3.10/site-packages/torch/utils/data/dataloader.py\", line 1601, in _shutdown_workers\n",
      "  File \"/share/pkg.8/python3/3.10.12/install/lib/python3.10/multiprocessing/process.py\", line 160, in is_alive\n",
      "        assert self._parent_pid == os.getpid(), 'can only test a child process'if w.is_alive():\n",
      "\n",
      "AssertionError  File \"/share/pkg.8/python3/3.10.12/install/lib/python3.10/multiprocessing/process.py\", line 160, in is_alive\n",
      ": can only test a child process    \n",
      "assert self._parent_pid == os.getpid(), 'can only test a child process'\n",
      "AssertionError: Exception ignored in: can only test a child process<function _MultiProcessingDataLoaderIter.__del__ at 0x14b4316bd510>\n",
      "\n",
      "Traceback (most recent call last):\n",
      "  File \"/usr4/dl4ds/shiychen/.local/lib/python3.10/site-packages/torch/utils/data/dataloader.py\", line 1618, in __del__\n",
      "Exception ignored in: <function _MultiProcessingDataLoaderIter.__del__ at 0x14b4316bd510>    \n",
      "self._shutdown_workers()Traceback (most recent call last):\n",
      "\n",
      "  File \"/usr4/dl4ds/shiychen/.local/lib/python3.10/site-packages/torch/utils/data/dataloader.py\", line 1618, in __del__\n",
      "  File \"/usr4/dl4ds/shiychen/.local/lib/python3.10/site-packages/torch/utils/data/dataloader.py\", line 1601, in _shutdown_workers\n",
      "        self._shutdown_workers()if w.is_alive():\n",
      "\n",
      "  File \"/usr4/dl4ds/shiychen/.local/lib/python3.10/site-packages/torch/utils/data/dataloader.py\", line 1601, in _shutdown_workers\n",
      "  File \"/share/pkg.8/python3/3.10.12/install/lib/python3.10/multiprocessing/process.py\", line 160, in is_alive\n",
      "        assert self._parent_pid == os.getpid(), 'can only test a child process'if w.is_alive():\n",
      "\n",
      "AssertionError  File \"/share/pkg.8/python3/3.10.12/install/lib/python3.10/multiprocessing/process.py\", line 160, in is_alive\n",
      ":     can only test a child processassert self._parent_pid == os.getpid(), 'can only test a child process'\n",
      "\n",
      "Exception ignored in: AssertionError: can only test a child process<function _MultiProcessingDataLoaderIter.__del__ at 0x14b4316bd510>\n",
      "<function _MultiProcessingDataLoaderIter.__del__ at 0x14b4316bd510>\n",
      "Exception ignored in: Traceback (most recent call last):\n",
      "  File \"/usr4/dl4ds/shiychen/.local/lib/python3.10/site-packages/torch/utils/data/dataloader.py\", line 1618, in __del__\n",
      "\n",
      "Traceback (most recent call last):\n",
      "    Exception ignored in: self._shutdown_workers()<function _MultiProcessingDataLoaderIter.__del__ at 0x14b4316bd510>\n",
      "  File \"/usr4/dl4ds/shiychen/.local/lib/python3.10/site-packages/torch/utils/data/dataloader.py\", line 1618, in __del__\n",
      "\n",
      "  File \"/usr4/dl4ds/shiychen/.local/lib/python3.10/site-packages/torch/utils/data/dataloader.py\", line 1601, in _shutdown_workers\n",
      "Traceback (most recent call last):\n",
      "      File \"/usr4/dl4ds/shiychen/.local/lib/python3.10/site-packages/torch/utils/data/dataloader.py\", line 1618, in __del__\n",
      "    self._shutdown_workers()if w.is_alive():    \n",
      "\n",
      "self._shutdown_workers()  File \"/usr4/dl4ds/shiychen/.local/lib/python3.10/site-packages/torch/utils/data/dataloader.py\", line 1601, in _shutdown_workers\n",
      "  File \"/share/pkg.8/python3/3.10.12/install/lib/python3.10/multiprocessing/process.py\", line 160, in is_alive\n",
      "\n",
      "      File \"/usr4/dl4ds/shiychen/.local/lib/python3.10/site-packages/torch/utils/data/dataloader.py\", line 1601, in _shutdown_workers\n",
      "    if w.is_alive():assert self._parent_pid == os.getpid(), 'can only test a child process'\n",
      "    \n",
      "  File \"/share/pkg.8/python3/3.10.12/install/lib/python3.10/multiprocessing/process.py\", line 160, in is_alive\n",
      "if w.is_alive():AssertionError\n",
      "    :   File \"/share/pkg.8/python3/3.10.12/install/lib/python3.10/multiprocessing/process.py\", line 160, in is_alive\n",
      "assert self._parent_pid == os.getpid(), 'can only test a child process'can only test a child process\n",
      "    \n",
      "AssertionErrorassert self._parent_pid == os.getpid(), 'can only test a child process': \n",
      "can only test a child processAssertionErrorException ignored in: \n",
      ": <function _MultiProcessingDataLoaderIter.__del__ at 0x14b4316bd510>can only test a child process\n",
      "\n",
      "Traceback (most recent call last):\n",
      "Exception ignored in:   File \"/usr4/dl4ds/shiychen/.local/lib/python3.10/site-packages/torch/utils/data/dataloader.py\", line 1618, in __del__\n",
      "<function _MultiProcessingDataLoaderIter.__del__ at 0x14b4316bd510>\n",
      "    Traceback (most recent call last):\n",
      "self._shutdown_workers()  File \"/usr4/dl4ds/shiychen/.local/lib/python3.10/site-packages/torch/utils/data/dataloader.py\", line 1618, in __del__\n",
      "\n",
      "  File \"/usr4/dl4ds/shiychen/.local/lib/python3.10/site-packages/torch/utils/data/dataloader.py\", line 1601, in _shutdown_workers\n",
      "    self._shutdown_workers()    \n",
      "if w.is_alive():  File \"/usr4/dl4ds/shiychen/.local/lib/python3.10/site-packages/torch/utils/data/dataloader.py\", line 1601, in _shutdown_workers\n",
      "\n",
      "  File \"/share/pkg.8/python3/3.10.12/install/lib/python3.10/multiprocessing/process.py\", line 160, in is_alive\n",
      "        if w.is_alive():assert self._parent_pid == os.getpid(), 'can only test a child process'\n",
      "\n",
      "  File \"/share/pkg.8/python3/3.10.12/install/lib/python3.10/multiprocessing/process.py\", line 160, in is_alive\n",
      "AssertionError    : assert self._parent_pid == os.getpid(), 'can only test a child process'\n",
      "can only test a child process\n",
      "AssertionError: can only test a child process\n",
      "Exception ignored in: <function _MultiProcessingDataLoaderIter.__del__ at 0x14b4316bd510>\n",
      "Exception ignored in: Traceback (most recent call last):\n",
      "<function _MultiProcessingDataLoaderIter.__del__ at 0x14b4316bd510>  File \"/usr4/dl4ds/shiychen/.local/lib/python3.10/site-packages/torch/utils/data/dataloader.py\", line 1618, in __del__\n",
      "\n",
      "Traceback (most recent call last):\n",
      "      File \"/usr4/dl4ds/shiychen/.local/lib/python3.10/site-packages/torch/utils/data/dataloader.py\", line 1618, in __del__\n",
      "self._shutdown_workers()\n",
      "      File \"/usr4/dl4ds/shiychen/.local/lib/python3.10/site-packages/torch/utils/data/dataloader.py\", line 1601, in _shutdown_workers\n",
      "self._shutdown_workers()\n",
      "      File \"/usr4/dl4ds/shiychen/.local/lib/python3.10/site-packages/torch/utils/data/dataloader.py\", line 1601, in _shutdown_workers\n",
      "if w.is_alive():\n",
      "      File \"/share/pkg.8/python3/3.10.12/install/lib/python3.10/multiprocessing/process.py\", line 160, in is_alive\n",
      "if w.is_alive():    \n",
      "assert self._parent_pid == os.getpid(), 'can only test a child process'  File \"/share/pkg.8/python3/3.10.12/install/lib/python3.10/multiprocessing/process.py\", line 160, in is_alive\n",
      "\n",
      "    AssertionErrorassert self._parent_pid == os.getpid(), 'can only test a child process': \n",
      "can only test a child processAssertionError\n",
      ": can only test a child process\n",
      "Exception ignored in: <function _MultiProcessingDataLoaderIter.__del__ at 0x14b4316bd510>\n",
      "Traceback (most recent call last):\n",
      "  File \"/usr4/dl4ds/shiychen/.local/lib/python3.10/site-packages/torch/utils/data/dataloader.py\", line 1618, in __del__\n",
      "    self._shutdown_workers()\n",
      "  File \"/usr4/dl4ds/shiychen/.local/lib/python3.10/site-packages/torch/utils/data/dataloader.py\", line 1601, in _shutdown_workers\n",
      "    if w.is_alive():\n",
      "  File \"/share/pkg.8/python3/3.10.12/install/lib/python3.10/multiprocessing/process.py\", line 160, in is_alive\n",
      "    assert self._parent_pid == os.getpid(), 'can only test a child process'\n",
      "AssertionError: can only test a child processException ignored in: \n",
      "<function _MultiProcessingDataLoaderIter.__del__ at 0x14b4316bd510>\n",
      "Traceback (most recent call last):\n",
      "Exception ignored in:   File \"/usr4/dl4ds/shiychen/.local/lib/python3.10/site-packages/torch/utils/data/dataloader.py\", line 1618, in __del__\n",
      "<function _MultiProcessingDataLoaderIter.__del__ at 0x14b4316bd510>\n",
      "    Traceback (most recent call last):\n",
      "self._shutdown_workers()  File \"/usr4/dl4ds/shiychen/.local/lib/python3.10/site-packages/torch/utils/data/dataloader.py\", line 1618, in __del__\n",
      "\n",
      "  File \"/usr4/dl4ds/shiychen/.local/lib/python3.10/site-packages/torch/utils/data/dataloader.py\", line 1601, in _shutdown_workers\n",
      "    self._shutdown_workers()    \n",
      "if w.is_alive():  File \"/usr4/dl4ds/shiychen/.local/lib/python3.10/site-packages/torch/utils/data/dataloader.py\", line 1601, in _shutdown_workers\n",
      "\n",
      "  File \"/share/pkg.8/python3/3.10.12/install/lib/python3.10/multiprocessing/process.py\", line 160, in is_alive\n",
      "        if w.is_alive():assert self._parent_pid == os.getpid(), 'can only test a child process'\n",
      "\n",
      "  File \"/share/pkg.8/python3/3.10.12/install/lib/python3.10/multiprocessing/process.py\", line 160, in is_alive\n",
      "AssertionError    : assert self._parent_pid == os.getpid(), 'can only test a child process'can only test a child process\n",
      "\n",
      "AssertionError: can only test a child processException ignored in: \n",
      "<function _MultiProcessingDataLoaderIter.__del__ at 0x14b4316bd510>\n",
      "Traceback (most recent call last):\n",
      "  File \"/usr4/dl4ds/shiychen/.local/lib/python3.10/site-packages/torch/utils/data/dataloader.py\", line 1618, in __del__\n",
      "    self._shutdown_workers()\n",
      "  File \"/usr4/dl4ds/shiychen/.local/lib/python3.10/site-packages/torch/utils/data/dataloader.py\", line 1601, in _shutdown_workers\n",
      "    if w.is_alive():\n",
      "  File \"/share/pkg.8/python3/3.10.12/install/lib/python3.10/multiprocessing/process.py\", line 160, in is_alive\n",
      "    assert self._parent_pid == os.getpid(), 'can only test a child process'\n",
      "AssertionError: can only test a child process\n",
      "Exception ignored in: <function _MultiProcessingDataLoaderIter.__del__ at 0x14b4316bd510>\n",
      "Traceback (most recent call last):\n",
      "  File \"/usr4/dl4ds/shiychen/.local/lib/python3.10/site-packages/torch/utils/data/dataloader.py\", line 1618, in __del__\n",
      "    self._shutdown_workers()\n",
      "  File \"/usr4/dl4ds/shiychen/.local/lib/python3.10/site-packages/torch/utils/data/dataloader.py\", line 1601, in _shutdown_workers\n",
      "    if w.is_alive():\n",
      "  File \"/share/pkg.8/python3/3.10.12/install/lib/python3.10/multiprocessing/process.py\", line 160, in is_alive\n",
      "    assert self._parent_pid == os.getpid(), 'can only test a child process'\n",
      "AssertionError: can only test a child process\n",
      "Exception ignored in: <function _MultiProcessingDataLoaderIter.__del__ at 0x14b4316bd510>\n",
      "Traceback (most recent call last):\n",
      "  File \"/usr4/dl4ds/shiychen/.local/lib/python3.10/site-packages/torch/utils/data/dataloader.py\", line 1618, in __del__\n",
      "    self._shutdown_workers()\n",
      "  File \"/usr4/dl4ds/shiychen/.local/lib/python3.10/site-packages/torch/utils/data/dataloader.py\", line 1601, in _shutdown_workers\n",
      "    if w.is_alive():\n",
      "  File \"/share/pkg.8/python3/3.10.12/install/lib/python3.10/multiprocessing/process.py\", line 160, in is_alive\n",
      "    assert self._parent_pid == os.getpid(), 'can only test a child process'\n",
      "AssertionError: can only test a child process\n",
      "Exception ignored in: <function _MultiProcessingDataLoaderIter.__del__ at 0x14b4316bd510>\n",
      "Traceback (most recent call last):\n",
      "  File \"/usr4/dl4ds/shiychen/.local/lib/python3.10/site-packages/torch/utils/data/dataloader.py\", line 1618, in __del__\n",
      "    self._shutdown_workers()\n",
      "  File \"/usr4/dl4ds/shiychen/.local/lib/python3.10/site-packages/torch/utils/data/dataloader.py\", line 1601, in _shutdown_workers\n",
      "    if w.is_alive():\n",
      "  File \"/share/pkg.8/python3/3.10.12/install/lib/python3.10/multiprocessing/process.py\", line 160, in is_alive\n",
      "    assert self._parent_pid == os.getpid(), 'can only test a child process'\n",
      "AssertionError: can only test a child process\n"
     ]
    },
    {
     "data": {
      "application/vnd.jupyter.widget-view+json": {
       "model_id": "d2a1292598564d5090a7eacf5ad3001a",
       "version_major": 2,
       "version_minor": 0
      },
      "text/plain": [
       "[Validate]:   0%|          | 0/157 [00:00<?, ?it/s]"
      ]
     },
     "metadata": {},
     "output_type": "display_data"
    },
    {
     "name": "stderr",
     "output_type": "stream",
     "text": [
      "Exception ignored in: <function _MultiProcessingDataLoaderIter.__del__ at 0x14b4316bd510>\n",
      "Traceback (most recent call last):\n",
      "  File \"/usr4/dl4ds/shiychen/.local/lib/python3.10/site-packages/torch/utils/data/dataloader.py\", line 1618, in __del__\n",
      "    self._shutdown_workers()\n",
      "  File \"/usr4/dl4ds/shiychen/.local/lib/python3.10/site-packages/torch/utils/data/dataloader.py\", line 1601, in _shutdown_workers\n",
      "    if w.is_alive():\n",
      "Exception ignored in:   File \"/share/pkg.8/python3/3.10.12/install/lib/python3.10/multiprocessing/process.py\", line 160, in is_alive\n",
      "    <function _MultiProcessingDataLoaderIter.__del__ at 0x14b4316bd510>assert self._parent_pid == os.getpid(), 'can only test a child process'\n",
      "\n",
      "Traceback (most recent call last):\n",
      "AssertionError  File \"/usr4/dl4ds/shiychen/.local/lib/python3.10/site-packages/torch/utils/data/dataloader.py\", line 1618, in __del__\n",
      ": can only test a child process    \n",
      "self._shutdown_workers()\n",
      "  File \"/usr4/dl4ds/shiychen/.local/lib/python3.10/site-packages/torch/utils/data/dataloader.py\", line 1601, in _shutdown_workers\n",
      "Exception ignored in: <function _MultiProcessingDataLoaderIter.__del__ at 0x14b4316bd510>    \n",
      "if w.is_alive():Traceback (most recent call last):\n",
      "\n",
      "  File \"/usr4/dl4ds/shiychen/.local/lib/python3.10/site-packages/torch/utils/data/dataloader.py\", line 1618, in __del__\n",
      "  File \"/share/pkg.8/python3/3.10.12/install/lib/python3.10/multiprocessing/process.py\", line 160, in is_alive\n",
      "        self._shutdown_workers()assert self._parent_pid == os.getpid(), 'can only test a child process'\n",
      "\n",
      "  File \"/usr4/dl4ds/shiychen/.local/lib/python3.10/site-packages/torch/utils/data/dataloader.py\", line 1601, in _shutdown_workers\n",
      "AssertionError:     can only test a child processif w.is_alive():\n",
      "\n",
      "  File \"/share/pkg.8/python3/3.10.12/install/lib/python3.10/multiprocessing/process.py\", line 160, in is_alive\n",
      "    Exception ignored in: assert self._parent_pid == os.getpid(), 'can only test a child process'<function _MultiProcessingDataLoaderIter.__del__ at 0x14b4316bd510>\n",
      "\n",
      "AssertionErrorTraceback (most recent call last):\n",
      ":   File \"/usr4/dl4ds/shiychen/.local/lib/python3.10/site-packages/torch/utils/data/dataloader.py\", line 1618, in __del__\n",
      "can only test a child process\n",
      "    self._shutdown_workers()\n",
      "  File \"/usr4/dl4ds/shiychen/.local/lib/python3.10/site-packages/torch/utils/data/dataloader.py\", line 1601, in _shutdown_workers\n",
      "Exception ignored in:     <function _MultiProcessingDataLoaderIter.__del__ at 0x14b4316bd510>if w.is_alive():\n",
      "\n",
      "Traceback (most recent call last):\n",
      "  File \"/share/pkg.8/python3/3.10.12/install/lib/python3.10/multiprocessing/process.py\", line 160, in is_alive\n",
      "  File \"/usr4/dl4ds/shiychen/.local/lib/python3.10/site-packages/torch/utils/data/dataloader.py\", line 1618, in __del__\n",
      "    assert self._parent_pid == os.getpid(), 'can only test a child process'    \n",
      "self._shutdown_workers()AssertionError\n",
      ":   File \"/usr4/dl4ds/shiychen/.local/lib/python3.10/site-packages/torch/utils/data/dataloader.py\", line 1601, in _shutdown_workers\n",
      "can only test a child process\n",
      "    if w.is_alive():\n",
      "  File \"/share/pkg.8/python3/3.10.12/install/lib/python3.10/multiprocessing/process.py\", line 160, in is_alive\n",
      "Exception ignored in:     <function _MultiProcessingDataLoaderIter.__del__ at 0x14b4316bd510>assert self._parent_pid == os.getpid(), 'can only test a child process'\n",
      "\n",
      "Traceback (most recent call last):\n",
      "AssertionError  File \"/usr4/dl4ds/shiychen/.local/lib/python3.10/site-packages/torch/utils/data/dataloader.py\", line 1618, in __del__\n",
      ": can only test a child process    \n",
      "self._shutdown_workers()\n",
      "  File \"/usr4/dl4ds/shiychen/.local/lib/python3.10/site-packages/torch/utils/data/dataloader.py\", line 1601, in _shutdown_workers\n",
      "Exception ignored in: <function _MultiProcessingDataLoaderIter.__del__ at 0x14b4316bd510>    \n",
      "if w.is_alive():Traceback (most recent call last):\n",
      "\n",
      "  File \"/usr4/dl4ds/shiychen/.local/lib/python3.10/site-packages/torch/utils/data/dataloader.py\", line 1618, in __del__\n",
      "  File \"/share/pkg.8/python3/3.10.12/install/lib/python3.10/multiprocessing/process.py\", line 160, in is_alive\n",
      "        assert self._parent_pid == os.getpid(), 'can only test a child process'self._shutdown_workers()\n",
      "\n",
      "AssertionError  File \"/usr4/dl4ds/shiychen/.local/lib/python3.10/site-packages/torch/utils/data/dataloader.py\", line 1601, in _shutdown_workers\n",
      ": can only test a child process    \n",
      "if w.is_alive():\n",
      "  File \"/share/pkg.8/python3/3.10.12/install/lib/python3.10/multiprocessing/process.py\", line 160, in is_alive\n",
      "Exception ignored in:     <function _MultiProcessingDataLoaderIter.__del__ at 0x14b4316bd510>assert self._parent_pid == os.getpid(), 'can only test a child process'\n",
      "\n",
      "Traceback (most recent call last):\n",
      "AssertionError  File \"/usr4/dl4ds/shiychen/.local/lib/python3.10/site-packages/torch/utils/data/dataloader.py\", line 1618, in __del__\n",
      ": can only test a child process    \n",
      "self._shutdown_workers()\n",
      "  File \"/usr4/dl4ds/shiychen/.local/lib/python3.10/site-packages/torch/utils/data/dataloader.py\", line 1601, in _shutdown_workers\n",
      "    Exception ignored in: if w.is_alive():<function _MultiProcessingDataLoaderIter.__del__ at 0x14b4316bd510>\n",
      "\n",
      "  File \"/share/pkg.8/python3/3.10.12/install/lib/python3.10/multiprocessing/process.py\", line 160, in is_alive\n",
      "Traceback (most recent call last):\n",
      "      File \"/usr4/dl4ds/shiychen/.local/lib/python3.10/site-packages/torch/utils/data/dataloader.py\", line 1618, in __del__\n",
      "assert self._parent_pid == os.getpid(), 'can only test a child process'\n",
      "    AssertionErrorself._shutdown_workers(): \n",
      "can only test a child process  File \"/usr4/dl4ds/shiychen/.local/lib/python3.10/site-packages/torch/utils/data/dataloader.py\", line 1601, in _shutdown_workers\n",
      "\n",
      "    if w.is_alive():\n",
      "  File \"/share/pkg.8/python3/3.10.12/install/lib/python3.10/multiprocessing/process.py\", line 160, in is_alive\n",
      "Exception ignored in: <function _MultiProcessingDataLoaderIter.__del__ at 0x14b4316bd510>    \n",
      "assert self._parent_pid == os.getpid(), 'can only test a child process'Traceback (most recent call last):\n",
      "\n",
      "  File \"/usr4/dl4ds/shiychen/.local/lib/python3.10/site-packages/torch/utils/data/dataloader.py\", line 1618, in __del__\n",
      "AssertionError: Exception ignored in: can only test a child process    \n",
      "self._shutdown_workers()<function _MultiProcessingDataLoaderIter.__del__ at 0x14b4316bd510>\n",
      "\n",
      "  File \"/usr4/dl4ds/shiychen/.local/lib/python3.10/site-packages/torch/utils/data/dataloader.py\", line 1601, in _shutdown_workers\n",
      "Exception ignored in: Traceback (most recent call last):\n",
      "      File \"/usr4/dl4ds/shiychen/.local/lib/python3.10/site-packages/torch/utils/data/dataloader.py\", line 1618, in __del__\n",
      "<function _MultiProcessingDataLoaderIter.__del__ at 0x14b4316bd510>if w.is_alive():\n",
      "    \n",
      "Traceback (most recent call last):\n",
      "self._shutdown_workers()  File \"/share/pkg.8/python3/3.10.12/install/lib/python3.10/multiprocessing/process.py\", line 160, in is_alive\n",
      "  File \"/usr4/dl4ds/shiychen/.local/lib/python3.10/site-packages/torch/utils/data/dataloader.py\", line 1618, in __del__\n",
      "\n",
      "      File \"/usr4/dl4ds/shiychen/.local/lib/python3.10/site-packages/torch/utils/data/dataloader.py\", line 1601, in _shutdown_workers\n",
      "    assert self._parent_pid == os.getpid(), 'can only test a child process'self._shutdown_workers()\n",
      "    \n",
      "AssertionErrorif w.is_alive():  File \"/usr4/dl4ds/shiychen/.local/lib/python3.10/site-packages/torch/utils/data/dataloader.py\", line 1601, in _shutdown_workers\n",
      ": \n",
      "can only test a child process  File \"/share/pkg.8/python3/3.10.12/install/lib/python3.10/multiprocessing/process.py\", line 160, in is_alive\n",
      "    \n",
      "    if w.is_alive():\n",
      "assert self._parent_pid == os.getpid(), 'can only test a child process'  File \"/share/pkg.8/python3/3.10.12/install/lib/python3.10/multiprocessing/process.py\", line 160, in is_alive\n",
      "\n",
      "Exception ignored in: <function _MultiProcessingDataLoaderIter.__del__ at 0x14b4316bd510>AssertionError    \n",
      ": assert self._parent_pid == os.getpid(), 'can only test a child process'Traceback (most recent call last):\n",
      "can only test a child process\n",
      "  File \"/usr4/dl4ds/shiychen/.local/lib/python3.10/site-packages/torch/utils/data/dataloader.py\", line 1618, in __del__\n",
      "\n",
      "AssertionError:     can only test a child processException ignored in: self._shutdown_workers()\n",
      "<function _MultiProcessingDataLoaderIter.__del__ at 0x14b4316bd510>\n",
      "\n",
      "  File \"/usr4/dl4ds/shiychen/.local/lib/python3.10/site-packages/torch/utils/data/dataloader.py\", line 1601, in _shutdown_workers\n",
      "Traceback (most recent call last):\n",
      "      File \"/usr4/dl4ds/shiychen/.local/lib/python3.10/site-packages/torch/utils/data/dataloader.py\", line 1618, in __del__\n",
      "if w.is_alive():    \n",
      "self._shutdown_workers()  File \"/share/pkg.8/python3/3.10.12/install/lib/python3.10/multiprocessing/process.py\", line 160, in is_alive\n",
      "\n",
      "      File \"/usr4/dl4ds/shiychen/.local/lib/python3.10/site-packages/torch/utils/data/dataloader.py\", line 1601, in _shutdown_workers\n",
      "assert self._parent_pid == os.getpid(), 'can only test a child process'\n",
      "    AssertionErrorif w.is_alive():: \n",
      "can only test a child process  File \"/share/pkg.8/python3/3.10.12/install/lib/python3.10/multiprocessing/process.py\", line 160, in is_alive\n",
      "\n",
      "    assert self._parent_pid == os.getpid(), 'can only test a child process'\n",
      "AssertionError: can only test a child process\n",
      "Exception ignored in: <function _MultiProcessingDataLoaderIter.__del__ at 0x14b4316bd510>\n",
      "Traceback (most recent call last):\n",
      "  File \"/usr4/dl4ds/shiychen/.local/lib/python3.10/site-packages/torch/utils/data/dataloader.py\", line 1618, in __del__\n",
      "    self._shutdown_workers()\n",
      "  File \"/usr4/dl4ds/shiychen/.local/lib/python3.10/site-packages/torch/utils/data/dataloader.py\", line 1601, in _shutdown_workers\n",
      "    if w.is_alive():\n",
      "  File \"/share/pkg.8/python3/3.10.12/install/lib/python3.10/multiprocessing/process.py\", line 160, in is_alive\n",
      "    assert self._parent_pid == os.getpid(), 'can only test a child process'\n",
      "AssertionError: can only test a child process\n",
      "Exception ignored in: <function _MultiProcessingDataLoaderIter.__del__ at 0x14b4316bd510>\n",
      "Traceback (most recent call last):\n",
      "  File \"/usr4/dl4ds/shiychen/.local/lib/python3.10/site-packages/torch/utils/data/dataloader.py\", line 1618, in __del__\n",
      "    self._shutdown_workers()\n",
      "  File \"/usr4/dl4ds/shiychen/.local/lib/python3.10/site-packages/torch/utils/data/dataloader.py\", line 1601, in _shutdown_workers\n",
      "    if w.is_alive():\n",
      "  File \"/share/pkg.8/python3/3.10.12/install/lib/python3.10/multiprocessing/process.py\", line 160, in is_alive\n",
      "    assert self._parent_pid == os.getpid(), 'can only test a child process'\n",
      "AssertionError: can only test a child process\n",
      "Exception ignored in: <function _MultiProcessingDataLoaderIter.__del__ at 0x14b4316bd510>\n",
      "Traceback (most recent call last):\n",
      "  File \"/usr4/dl4ds/shiychen/.local/lib/python3.10/site-packages/torch/utils/data/dataloader.py\", line 1618, in __del__\n",
      "    self._shutdown_workers()\n",
      "  File \"/usr4/dl4ds/shiychen/.local/lib/python3.10/site-packages/torch/utils/data/dataloader.py\", line 1601, in _shutdown_workers\n",
      "    if w.is_alive():\n",
      "  File \"/share/pkg.8/python3/3.10.12/install/lib/python3.10/multiprocessing/process.py\", line 160, in is_alive\n",
      "    assert self._parent_pid == os.getpid(), 'can only test a child process'\n",
      "AssertionError: can only test a child process\n",
      "Exception ignored in: Exception ignored in: <function _MultiProcessingDataLoaderIter.__del__ at 0x14b4316bd510>\n",
      "Traceback (most recent call last):\n",
      "<function _MultiProcessingDataLoaderIter.__del__ at 0x14b4316bd510>  File \"/usr4/dl4ds/shiychen/.local/lib/python3.10/site-packages/torch/utils/data/dataloader.py\", line 1618, in __del__\n",
      "\n",
      "Traceback (most recent call last):\n",
      "      File \"/usr4/dl4ds/shiychen/.local/lib/python3.10/site-packages/torch/utils/data/dataloader.py\", line 1618, in __del__\n",
      "self._shutdown_workers()\n",
      "      File \"/usr4/dl4ds/shiychen/.local/lib/python3.10/site-packages/torch/utils/data/dataloader.py\", line 1601, in _shutdown_workers\n",
      "self._shutdown_workers()\n",
      "      File \"/usr4/dl4ds/shiychen/.local/lib/python3.10/site-packages/torch/utils/data/dataloader.py\", line 1601, in _shutdown_workers\n",
      "if w.is_alive():\n",
      "      File \"/share/pkg.8/python3/3.10.12/install/lib/python3.10/multiprocessing/process.py\", line 160, in is_alive\n",
      "if w.is_alive():\n",
      "      File \"/share/pkg.8/python3/3.10.12/install/lib/python3.10/multiprocessing/process.py\", line 160, in is_alive\n",
      "assert self._parent_pid == os.getpid(), 'can only test a child process'\n",
      "    AssertionErrorassert self._parent_pid == os.getpid(), 'can only test a child process': \n",
      "can only test a child processAssertionError\n",
      ": can only test a child process\n",
      "Exception ignored in: <function _MultiProcessingDataLoaderIter.__del__ at 0x14b4316bd510>\n",
      "Traceback (most recent call last):\n",
      "  File \"/usr4/dl4ds/shiychen/.local/lib/python3.10/site-packages/torch/utils/data/dataloader.py\", line 1618, in __del__\n",
      "    self._shutdown_workers()\n",
      "  File \"/usr4/dl4ds/shiychen/.local/lib/python3.10/site-packages/torch/utils/data/dataloader.py\", line 1601, in _shutdown_workers\n",
      "    if w.is_alive():\n",
      "  File \"/share/pkg.8/python3/3.10.12/install/lib/python3.10/multiprocessing/process.py\", line 160, in is_alive\n",
      "    assert self._parent_pid == os.getpid(), 'can only test a child process'\n",
      "AssertionError: can only test a child process\n",
      "Exception ignored in: <function _MultiProcessingDataLoaderIter.__del__ at 0x14b4316bd510>\n",
      "Traceback (most recent call last):\n",
      "  File \"/usr4/dl4ds/shiychen/.local/lib/python3.10/site-packages/torch/utils/data/dataloader.py\", line 1618, in __del__\n",
      "    self._shutdown_workers()\n",
      "  File \"/usr4/dl4ds/shiychen/.local/lib/python3.10/site-packages/torch/utils/data/dataloader.py\", line 1601, in _shutdown_workers\n",
      "    if w.is_alive():\n",
      "  File \"/share/pkg.8/python3/3.10.12/install/lib/python3.10/multiprocessing/process.py\", line 160, in is_alive\n",
      "    assert self._parent_pid == os.getpid(), 'can only test a child process'\n",
      "AssertionError: can only test a child process\n",
      "Exception ignored in: <function _MultiProcessingDataLoaderIter.__del__ at 0x14b4316bd510>\n",
      "Traceback (most recent call last):\n",
      "  File \"/usr4/dl4ds/shiychen/.local/lib/python3.10/site-packages/torch/utils/data/dataloader.py\", line 1618, in __del__\n",
      "    self._shutdown_workers()\n",
      "  File \"/usr4/dl4ds/shiychen/.local/lib/python3.10/site-packages/torch/utils/data/dataloader.py\", line 1601, in _shutdown_workers\n",
      "    if w.is_alive():\n",
      "  File \"/share/pkg.8/python3/3.10.12/install/lib/python3.10/multiprocessing/process.py\", line 160, in is_alive\n",
      "    assert self._parent_pid == os.getpid(), 'can only test a child process'\n",
      "AssertionError: can only test a child process\n",
      "Exception ignored in: <function _MultiProcessingDataLoaderIter.__del__ at 0x14b4316bd510>\n",
      "Traceback (most recent call last):\n",
      "  File \"/usr4/dl4ds/shiychen/.local/lib/python3.10/site-packages/torch/utils/data/dataloader.py\", line 1618, in __del__\n",
      "    self._shutdown_workers()\n",
      "  File \"/usr4/dl4ds/shiychen/.local/lib/python3.10/site-packages/torch/utils/data/dataloader.py\", line 1601, in _shutdown_workers\n",
      "    if w.is_alive():\n",
      "  File \"/share/pkg.8/python3/3.10.12/install/lib/python3.10/multiprocessing/process.py\", line 160, in is_alive\n",
      "    assert self._parent_pid == os.getpid(), 'can only test a child process'\n",
      "AssertionError: can only test a child process\n",
      "Exception ignored in: <function _MultiProcessingDataLoaderIter.__del__ at 0x14b4316bd510>\n",
      "Traceback (most recent call last):\n",
      "  File \"/usr4/dl4ds/shiychen/.local/lib/python3.10/site-packages/torch/utils/data/dataloader.py\", line 1618, in __del__\n",
      "    self._shutdown_workers()\n",
      "  File \"/usr4/dl4ds/shiychen/.local/lib/python3.10/site-packages/torch/utils/data/dataloader.py\", line 1601, in _shutdown_workers\n",
      "    if w.is_alive():\n",
      "  File \"/share/pkg.8/python3/3.10.12/install/lib/python3.10/multiprocessing/process.py\", line 160, in is_alive\n",
      "    assert self._parent_pid == os.getpid(), 'can only test a child process'\n",
      "AssertionError: can only test a child process\n"
     ]
    },
    {
     "data": {
      "text/html": [
       "Waiting for W&B process to finish... <strong style=\"color:green\">(success).</strong>"
      ],
      "text/plain": [
       "<IPython.core.display.HTML object>"
      ]
     },
     "metadata": {},
     "output_type": "display_data"
    },
    {
     "data": {
      "application/vnd.jupyter.widget-view+json": {
       "model_id": "282d8c90810742afbf03dd22f12d2dbc",
       "version_major": 2,
       "version_minor": 0
      },
      "text/plain": [
       "VBox(children=(Label(value='42.882 MB of 42.882 MB uploaded (0.000 MB deduped)\\r'), FloatProgress(value=1.0, m…"
      ]
     },
     "metadata": {},
     "output_type": "display_data"
    },
    {
     "data": {
      "text/html": [
       "<style>\n",
       "    table.wandb td:nth-child(1) { padding: 0 10px; text-align: left ; width: auto;} td:nth-child(2) {text-align: left ; width: 100%}\n",
       "    .wandb-row { display: flex; flex-direction: row; flex-wrap: wrap; justify-content: flex-start; width: 100% }\n",
       "    .wandb-col { display: flex; flex-direction: column; flex-basis: 100%; flex: 1; padding: 10px; }\n",
       "    </style>\n",
       "<div class=\"wandb-row\"><div class=\"wandb-col\"><h3>Run history:</h3><br/><table class=\"wandb\"><tr><td>epoch</td><td>▁▃▅▆█</td></tr><tr><td>lr</td><td>█▆▄▂▁</td></tr><tr><td>train_acc</td><td>▁▃▅▇█</td></tr><tr><td>train_loss</td><td>█▅▃▂▁</td></tr><tr><td>val_acc</td><td>▁▄▆▇█</td></tr><tr><td>val_loss</td><td>█▅▃▂▁</td></tr></table><br/></div><div class=\"wandb-col\"><h3>Run summary:</h3><br/><table class=\"wandb\"><tr><td>epoch</td><td>5</td></tr><tr><td>lr</td><td>0.0</td></tr><tr><td>train_acc</td><td>37.8275</td></tr><tr><td>train_loss</td><td>2.38662</td></tr><tr><td>val_acc</td><td>37.02</td></tr><tr><td>val_loss</td><td>2.45426</td></tr></table><br/></div></div>"
      ],
      "text/plain": [
       "<IPython.core.display.HTML object>"
      ]
     },
     "metadata": {},
     "output_type": "display_data"
    },
    {
     "data": {
      "text/html": [
       " View run <strong style=\"color:#cdcd00\">misunderstood-pond-65</strong> at: <a href='https://wandb.ai/shiychen-boston-university/-sp25-ds542-challenge/runs/itgsr82b' target=\"_blank\">https://wandb.ai/shiychen-boston-university/-sp25-ds542-challenge/runs/itgsr82b</a><br/>Synced 5 W&B file(s), 0 media file(s), 0 artifact file(s) and 1 other file(s)"
      ],
      "text/plain": [
       "<IPython.core.display.HTML object>"
      ]
     },
     "metadata": {},
     "output_type": "display_data"
    },
    {
     "data": {
      "text/html": [
       "Find logs at: <code>./wandb/run-20250325_192958-itgsr82b/logs</code>"
      ],
      "text/plain": [
       "<IPython.core.display.HTML object>"
      ]
     },
     "metadata": {},
     "output_type": "display_data"
    },
    {
     "data": {
      "application/vnd.jupyter.widget-view+json": {
       "model_id": "6a59e176d6b345b68b2aa4373d628a7f",
       "version_major": 2,
       "version_minor": 0
      },
      "text/plain": [
       "Evaluating on Clean Test Set:   0%|          | 0/157 [00:00<?, ?it/s]"
      ]
     },
     "metadata": {},
     "output_type": "display_data"
    },
    {
     "name": "stdout",
     "output_type": "stream",
     "text": [
      "Clean CIFAR-100 Test Accuracy: 38.13%\n",
      "All files are already downloaded.\n"
     ]
    },
    {
     "data": {
      "application/vnd.jupyter.widget-view+json": {
       "model_id": "f7c2e2df8c5a425aaea10f5ae75ef660",
       "version_major": 2,
       "version_minor": 0
      },
      "text/plain": [
       "Evaluating distortion00 (Severity 1):   0%|          | 0/157 [00:00<?, ?it/s]"
      ]
     },
     "metadata": {},
     "output_type": "display_data"
    },
    {
     "name": "stdout",
     "output_type": "stream",
     "text": [
      "distortion00 (Severity 1)\n"
     ]
    },
    {
     "data": {
      "application/vnd.jupyter.widget-view+json": {
       "model_id": "a724f7e829f84394a150fbf70815571d",
       "version_major": 2,
       "version_minor": 0
      },
      "text/plain": [
       "Evaluating distortion00 (Severity 2):   0%|          | 0/157 [00:00<?, ?it/s]"
      ]
     },
     "metadata": {},
     "output_type": "display_data"
    },
    {
     "name": "stdout",
     "output_type": "stream",
     "text": [
      "distortion00 (Severity 2)\n"
     ]
    },
    {
     "data": {
      "application/vnd.jupyter.widget-view+json": {
       "model_id": "a8075129d651497988183d476fe17b5b",
       "version_major": 2,
       "version_minor": 0
      },
      "text/plain": [
       "Evaluating distortion00 (Severity 3):   0%|          | 0/157 [00:00<?, ?it/s]"
      ]
     },
     "metadata": {},
     "output_type": "display_data"
    },
    {
     "name": "stdout",
     "output_type": "stream",
     "text": [
      "distortion00 (Severity 3)\n"
     ]
    },
    {
     "data": {
      "application/vnd.jupyter.widget-view+json": {
       "model_id": "c5596f16455845568c1b53ee24709eca",
       "version_major": 2,
       "version_minor": 0
      },
      "text/plain": [
       "Evaluating distortion00 (Severity 4):   0%|          | 0/157 [00:00<?, ?it/s]"
      ]
     },
     "metadata": {},
     "output_type": "display_data"
    },
    {
     "name": "stdout",
     "output_type": "stream",
     "text": [
      "distortion00 (Severity 4)\n"
     ]
    },
    {
     "data": {
      "application/vnd.jupyter.widget-view+json": {
       "model_id": "6e733660df03413a9d7eafb84b8fc4e6",
       "version_major": 2,
       "version_minor": 0
      },
      "text/plain": [
       "Evaluating distortion00 (Severity 5):   0%|          | 0/157 [00:00<?, ?it/s]"
      ]
     },
     "metadata": {},
     "output_type": "display_data"
    },
    {
     "name": "stdout",
     "output_type": "stream",
     "text": [
      "distortion00 (Severity 5)\n"
     ]
    },
    {
     "data": {
      "application/vnd.jupyter.widget-view+json": {
       "model_id": "549f5112644749b8ad1af8bb2a68e175",
       "version_major": 2,
       "version_minor": 0
      },
      "text/plain": [
       "Evaluating distortion01 (Severity 1):   0%|          | 0/157 [00:00<?, ?it/s]"
      ]
     },
     "metadata": {},
     "output_type": "display_data"
    },
    {
     "name": "stdout",
     "output_type": "stream",
     "text": [
      "distortion01 (Severity 1)\n"
     ]
    },
    {
     "data": {
      "application/vnd.jupyter.widget-view+json": {
       "model_id": "09f9663c76b34eea85f8c10f9809087d",
       "version_major": 2,
       "version_minor": 0
      },
      "text/plain": [
       "Evaluating distortion01 (Severity 2):   0%|          | 0/157 [00:00<?, ?it/s]"
      ]
     },
     "metadata": {},
     "output_type": "display_data"
    },
    {
     "name": "stdout",
     "output_type": "stream",
     "text": [
      "distortion01 (Severity 2)\n"
     ]
    },
    {
     "data": {
      "application/vnd.jupyter.widget-view+json": {
       "model_id": "0921200ea14b495fa01ee6bff99b8c49",
       "version_major": 2,
       "version_minor": 0
      },
      "text/plain": [
       "Evaluating distortion01 (Severity 3):   0%|          | 0/157 [00:00<?, ?it/s]"
      ]
     },
     "metadata": {},
     "output_type": "display_data"
    },
    {
     "name": "stdout",
     "output_type": "stream",
     "text": [
      "distortion01 (Severity 3)\n"
     ]
    },
    {
     "data": {
      "application/vnd.jupyter.widget-view+json": {
       "model_id": "ff58efc91afe4b6e8755a5a6c32f59aa",
       "version_major": 2,
       "version_minor": 0
      },
      "text/plain": [
       "Evaluating distortion01 (Severity 4):   0%|          | 0/157 [00:00<?, ?it/s]"
      ]
     },
     "metadata": {},
     "output_type": "display_data"
    },
    {
     "name": "stdout",
     "output_type": "stream",
     "text": [
      "distortion01 (Severity 4)\n"
     ]
    },
    {
     "data": {
      "application/vnd.jupyter.widget-view+json": {
       "model_id": "ce2d53221c714c4ba0b3c20babbbfa05",
       "version_major": 2,
       "version_minor": 0
      },
      "text/plain": [
       "Evaluating distortion01 (Severity 5):   0%|          | 0/157 [00:00<?, ?it/s]"
      ]
     },
     "metadata": {},
     "output_type": "display_data"
    },
    {
     "name": "stdout",
     "output_type": "stream",
     "text": [
      "distortion01 (Severity 5)\n"
     ]
    },
    {
     "data": {
      "application/vnd.jupyter.widget-view+json": {
       "model_id": "876b034a1fce4feb93edfee6fe7bc3e7",
       "version_major": 2,
       "version_minor": 0
      },
      "text/plain": [
       "Evaluating distortion02 (Severity 1):   0%|          | 0/157 [00:00<?, ?it/s]"
      ]
     },
     "metadata": {},
     "output_type": "display_data"
    },
    {
     "name": "stdout",
     "output_type": "stream",
     "text": [
      "distortion02 (Severity 1)\n"
     ]
    },
    {
     "data": {
      "application/vnd.jupyter.widget-view+json": {
       "model_id": "4e10b341ccbc4fccab914a95986d74d0",
       "version_major": 2,
       "version_minor": 0
      },
      "text/plain": [
       "Evaluating distortion02 (Severity 2):   0%|          | 0/157 [00:00<?, ?it/s]"
      ]
     },
     "metadata": {},
     "output_type": "display_data"
    },
    {
     "name": "stdout",
     "output_type": "stream",
     "text": [
      "distortion02 (Severity 2)\n"
     ]
    },
    {
     "data": {
      "application/vnd.jupyter.widget-view+json": {
       "model_id": "6e7e2af89cb34080ade493ed288c4dc8",
       "version_major": 2,
       "version_minor": 0
      },
      "text/plain": [
       "Evaluating distortion02 (Severity 3):   0%|          | 0/157 [00:00<?, ?it/s]"
      ]
     },
     "metadata": {},
     "output_type": "display_data"
    },
    {
     "name": "stdout",
     "output_type": "stream",
     "text": [
      "distortion02 (Severity 3)\n"
     ]
    },
    {
     "data": {
      "application/vnd.jupyter.widget-view+json": {
       "model_id": "6b9ba3324cc64971b45a4361a7f30d08",
       "version_major": 2,
       "version_minor": 0
      },
      "text/plain": [
       "Evaluating distortion02 (Severity 4):   0%|          | 0/157 [00:00<?, ?it/s]"
      ]
     },
     "metadata": {},
     "output_type": "display_data"
    },
    {
     "name": "stdout",
     "output_type": "stream",
     "text": [
      "distortion02 (Severity 4)\n"
     ]
    },
    {
     "data": {
      "application/vnd.jupyter.widget-view+json": {
       "model_id": "d175a916b7ac4632926a11210ab928f3",
       "version_major": 2,
       "version_minor": 0
      },
      "text/plain": [
       "Evaluating distortion02 (Severity 5):   0%|          | 0/157 [00:00<?, ?it/s]"
      ]
     },
     "metadata": {},
     "output_type": "display_data"
    },
    {
     "name": "stdout",
     "output_type": "stream",
     "text": [
      "distortion02 (Severity 5)\n"
     ]
    },
    {
     "data": {
      "application/vnd.jupyter.widget-view+json": {
       "model_id": "670475bb366f4afe9057bbf361c30634",
       "version_major": 2,
       "version_minor": 0
      },
      "text/plain": [
       "Evaluating distortion03 (Severity 1):   0%|          | 0/157 [00:00<?, ?it/s]"
      ]
     },
     "metadata": {},
     "output_type": "display_data"
    },
    {
     "name": "stdout",
     "output_type": "stream",
     "text": [
      "distortion03 (Severity 1)\n"
     ]
    },
    {
     "data": {
      "application/vnd.jupyter.widget-view+json": {
       "model_id": "7b613d06532d45ea94d474bb08aa43c0",
       "version_major": 2,
       "version_minor": 0
      },
      "text/plain": [
       "Evaluating distortion03 (Severity 2):   0%|          | 0/157 [00:00<?, ?it/s]"
      ]
     },
     "metadata": {},
     "output_type": "display_data"
    },
    {
     "name": "stdout",
     "output_type": "stream",
     "text": [
      "distortion03 (Severity 2)\n"
     ]
    },
    {
     "data": {
      "application/vnd.jupyter.widget-view+json": {
       "model_id": "54f248d9277d428eba733d2145678aac",
       "version_major": 2,
       "version_minor": 0
      },
      "text/plain": [
       "Evaluating distortion03 (Severity 3):   0%|          | 0/157 [00:00<?, ?it/s]"
      ]
     },
     "metadata": {},
     "output_type": "display_data"
    },
    {
     "name": "stdout",
     "output_type": "stream",
     "text": [
      "distortion03 (Severity 3)\n"
     ]
    },
    {
     "data": {
      "application/vnd.jupyter.widget-view+json": {
       "model_id": "dcba42091e634363aedb74867209ea55",
       "version_major": 2,
       "version_minor": 0
      },
      "text/plain": [
       "Evaluating distortion03 (Severity 4):   0%|          | 0/157 [00:00<?, ?it/s]"
      ]
     },
     "metadata": {},
     "output_type": "display_data"
    },
    {
     "name": "stdout",
     "output_type": "stream",
     "text": [
      "distortion03 (Severity 4)\n"
     ]
    },
    {
     "data": {
      "application/vnd.jupyter.widget-view+json": {
       "model_id": "0524bcc850874288b05dcc8181102918",
       "version_major": 2,
       "version_minor": 0
      },
      "text/plain": [
       "Evaluating distortion03 (Severity 5):   0%|          | 0/157 [00:00<?, ?it/s]"
      ]
     },
     "metadata": {},
     "output_type": "display_data"
    },
    {
     "name": "stdout",
     "output_type": "stream",
     "text": [
      "distortion03 (Severity 5)\n"
     ]
    },
    {
     "data": {
      "application/vnd.jupyter.widget-view+json": {
       "model_id": "c43dfb44db2a4e0cb4f7c5a770465237",
       "version_major": 2,
       "version_minor": 0
      },
      "text/plain": [
       "Evaluating distortion04 (Severity 1):   0%|          | 0/157 [00:00<?, ?it/s]"
      ]
     },
     "metadata": {},
     "output_type": "display_data"
    },
    {
     "name": "stdout",
     "output_type": "stream",
     "text": [
      "distortion04 (Severity 1)\n"
     ]
    },
    {
     "data": {
      "application/vnd.jupyter.widget-view+json": {
       "model_id": "32d87e79b7b846c4812d9b287d8df9e8",
       "version_major": 2,
       "version_minor": 0
      },
      "text/plain": [
       "Evaluating distortion04 (Severity 2):   0%|          | 0/157 [00:00<?, ?it/s]"
      ]
     },
     "metadata": {},
     "output_type": "display_data"
    },
    {
     "name": "stdout",
     "output_type": "stream",
     "text": [
      "distortion04 (Severity 2)\n"
     ]
    },
    {
     "data": {
      "application/vnd.jupyter.widget-view+json": {
       "model_id": "b665dc3274374014a21291a61857876a",
       "version_major": 2,
       "version_minor": 0
      },
      "text/plain": [
       "Evaluating distortion04 (Severity 3):   0%|          | 0/157 [00:00<?, ?it/s]"
      ]
     },
     "metadata": {},
     "output_type": "display_data"
    },
    {
     "name": "stdout",
     "output_type": "stream",
     "text": [
      "distortion04 (Severity 3)\n"
     ]
    },
    {
     "data": {
      "application/vnd.jupyter.widget-view+json": {
       "model_id": "ff42f1194a674daea67f057d0ba3432e",
       "version_major": 2,
       "version_minor": 0
      },
      "text/plain": [
       "Evaluating distortion04 (Severity 4):   0%|          | 0/157 [00:00<?, ?it/s]"
      ]
     },
     "metadata": {},
     "output_type": "display_data"
    },
    {
     "name": "stdout",
     "output_type": "stream",
     "text": [
      "distortion04 (Severity 4)\n"
     ]
    },
    {
     "data": {
      "application/vnd.jupyter.widget-view+json": {
       "model_id": "02cbd0eee5ec4ddba0606a43a3038277",
       "version_major": 2,
       "version_minor": 0
      },
      "text/plain": [
       "Evaluating distortion04 (Severity 5):   0%|          | 0/157 [00:00<?, ?it/s]"
      ]
     },
     "metadata": {},
     "output_type": "display_data"
    },
    {
     "name": "stdout",
     "output_type": "stream",
     "text": [
      "distortion04 (Severity 5)\n"
     ]
    },
    {
     "data": {
      "application/vnd.jupyter.widget-view+json": {
       "model_id": "a3ad013446d04ab0a5c487a8084fd51c",
       "version_major": 2,
       "version_minor": 0
      },
      "text/plain": [
       "Evaluating distortion05 (Severity 1):   0%|          | 0/157 [00:00<?, ?it/s]"
      ]
     },
     "metadata": {},
     "output_type": "display_data"
    },
    {
     "name": "stdout",
     "output_type": "stream",
     "text": [
      "distortion05 (Severity 1)\n"
     ]
    },
    {
     "data": {
      "application/vnd.jupyter.widget-view+json": {
       "model_id": "5b9fbe9c26eb43709f9322db732ecdac",
       "version_major": 2,
       "version_minor": 0
      },
      "text/plain": [
       "Evaluating distortion05 (Severity 2):   0%|          | 0/157 [00:00<?, ?it/s]"
      ]
     },
     "metadata": {},
     "output_type": "display_data"
    },
    {
     "name": "stdout",
     "output_type": "stream",
     "text": [
      "distortion05 (Severity 2)\n"
     ]
    },
    {
     "data": {
      "application/vnd.jupyter.widget-view+json": {
       "model_id": "86120672c7034ed1b44c0931625c995c",
       "version_major": 2,
       "version_minor": 0
      },
      "text/plain": [
       "Evaluating distortion05 (Severity 3):   0%|          | 0/157 [00:00<?, ?it/s]"
      ]
     },
     "metadata": {},
     "output_type": "display_data"
    },
    {
     "name": "stdout",
     "output_type": "stream",
     "text": [
      "distortion05 (Severity 3)\n"
     ]
    },
    {
     "data": {
      "application/vnd.jupyter.widget-view+json": {
       "model_id": "5d3ce27bce9445c7a651643303e8a534",
       "version_major": 2,
       "version_minor": 0
      },
      "text/plain": [
       "Evaluating distortion05 (Severity 4):   0%|          | 0/157 [00:00<?, ?it/s]"
      ]
     },
     "metadata": {},
     "output_type": "display_data"
    },
    {
     "name": "stdout",
     "output_type": "stream",
     "text": [
      "distortion05 (Severity 4)\n"
     ]
    },
    {
     "data": {
      "application/vnd.jupyter.widget-view+json": {
       "model_id": "43a9190eb2c046feb8ce4ad8c017061a",
       "version_major": 2,
       "version_minor": 0
      },
      "text/plain": [
       "Evaluating distortion05 (Severity 5):   0%|          | 0/157 [00:00<?, ?it/s]"
      ]
     },
     "metadata": {},
     "output_type": "display_data"
    },
    {
     "name": "stdout",
     "output_type": "stream",
     "text": [
      "distortion05 (Severity 5)\n"
     ]
    },
    {
     "data": {
      "application/vnd.jupyter.widget-view+json": {
       "model_id": "d1e3a7c76b8b4fc9be70d29acb762e35",
       "version_major": 2,
       "version_minor": 0
      },
      "text/plain": [
       "Evaluating distortion06 (Severity 1):   0%|          | 0/157 [00:00<?, ?it/s]"
      ]
     },
     "metadata": {},
     "output_type": "display_data"
    },
    {
     "name": "stdout",
     "output_type": "stream",
     "text": [
      "distortion06 (Severity 1)\n"
     ]
    },
    {
     "data": {
      "application/vnd.jupyter.widget-view+json": {
       "model_id": "6c5cc027e7e842f08d8a8a64de125719",
       "version_major": 2,
       "version_minor": 0
      },
      "text/plain": [
       "Evaluating distortion06 (Severity 2):   0%|          | 0/157 [00:00<?, ?it/s]"
      ]
     },
     "metadata": {},
     "output_type": "display_data"
    },
    {
     "name": "stdout",
     "output_type": "stream",
     "text": [
      "distortion06 (Severity 2)\n"
     ]
    },
    {
     "data": {
      "application/vnd.jupyter.widget-view+json": {
       "model_id": "f5b8fb799a8c4df8bdde847775dcca0f",
       "version_major": 2,
       "version_minor": 0
      },
      "text/plain": [
       "Evaluating distortion06 (Severity 3):   0%|          | 0/157 [00:00<?, ?it/s]"
      ]
     },
     "metadata": {},
     "output_type": "display_data"
    },
    {
     "name": "stdout",
     "output_type": "stream",
     "text": [
      "distortion06 (Severity 3)\n"
     ]
    },
    {
     "data": {
      "application/vnd.jupyter.widget-view+json": {
       "model_id": "0c7a590a20934b37b381979e9286d0b8",
       "version_major": 2,
       "version_minor": 0
      },
      "text/plain": [
       "Evaluating distortion06 (Severity 4):   0%|          | 0/157 [00:00<?, ?it/s]"
      ]
     },
     "metadata": {},
     "output_type": "display_data"
    },
    {
     "name": "stdout",
     "output_type": "stream",
     "text": [
      "distortion06 (Severity 4)\n"
     ]
    },
    {
     "data": {
      "application/vnd.jupyter.widget-view+json": {
       "model_id": "5ac35a4cfd2442b7903ce6bf70c35bbe",
       "version_major": 2,
       "version_minor": 0
      },
      "text/plain": [
       "Evaluating distortion06 (Severity 5):   0%|          | 0/157 [00:00<?, ?it/s]"
      ]
     },
     "metadata": {},
     "output_type": "display_data"
    },
    {
     "name": "stdout",
     "output_type": "stream",
     "text": [
      "distortion06 (Severity 5)\n"
     ]
    },
    {
     "data": {
      "application/vnd.jupyter.widget-view+json": {
       "model_id": "fbe16b5f454745f3a6f641cc37f05eba",
       "version_major": 2,
       "version_minor": 0
      },
      "text/plain": [
       "Evaluating distortion07 (Severity 1):   0%|          | 0/157 [00:00<?, ?it/s]"
      ]
     },
     "metadata": {},
     "output_type": "display_data"
    },
    {
     "name": "stdout",
     "output_type": "stream",
     "text": [
      "distortion07 (Severity 1)\n"
     ]
    },
    {
     "data": {
      "application/vnd.jupyter.widget-view+json": {
       "model_id": "cead7c6c8b04420a8699c8f26b0a89b9",
       "version_major": 2,
       "version_minor": 0
      },
      "text/plain": [
       "Evaluating distortion07 (Severity 2):   0%|          | 0/157 [00:00<?, ?it/s]"
      ]
     },
     "metadata": {},
     "output_type": "display_data"
    },
    {
     "name": "stdout",
     "output_type": "stream",
     "text": [
      "distortion07 (Severity 2)\n"
     ]
    },
    {
     "data": {
      "application/vnd.jupyter.widget-view+json": {
       "model_id": "febb0976c8c349df9bc6267acb1b0ddc",
       "version_major": 2,
       "version_minor": 0
      },
      "text/plain": [
       "Evaluating distortion07 (Severity 3):   0%|          | 0/157 [00:00<?, ?it/s]"
      ]
     },
     "metadata": {},
     "output_type": "display_data"
    },
    {
     "name": "stdout",
     "output_type": "stream",
     "text": [
      "distortion07 (Severity 3)\n"
     ]
    },
    {
     "data": {
      "application/vnd.jupyter.widget-view+json": {
       "model_id": "3d77c12a54c94652a4581a5273a4eb3e",
       "version_major": 2,
       "version_minor": 0
      },
      "text/plain": [
       "Evaluating distortion07 (Severity 4):   0%|          | 0/157 [00:00<?, ?it/s]"
      ]
     },
     "metadata": {},
     "output_type": "display_data"
    },
    {
     "name": "stdout",
     "output_type": "stream",
     "text": [
      "distortion07 (Severity 4)\n"
     ]
    },
    {
     "data": {
      "application/vnd.jupyter.widget-view+json": {
       "model_id": "f30578c8aa234bfcb044a99870fd26c0",
       "version_major": 2,
       "version_minor": 0
      },
      "text/plain": [
       "Evaluating distortion07 (Severity 5):   0%|          | 0/157 [00:00<?, ?it/s]"
      ]
     },
     "metadata": {},
     "output_type": "display_data"
    },
    {
     "name": "stdout",
     "output_type": "stream",
     "text": [
      "distortion07 (Severity 5)\n"
     ]
    },
    {
     "data": {
      "application/vnd.jupyter.widget-view+json": {
       "model_id": "6c2ff21e47b94954bd018a50225a0396",
       "version_major": 2,
       "version_minor": 0
      },
      "text/plain": [
       "Evaluating distortion08 (Severity 1):   0%|          | 0/157 [00:00<?, ?it/s]"
      ]
     },
     "metadata": {},
     "output_type": "display_data"
    },
    {
     "name": "stdout",
     "output_type": "stream",
     "text": [
      "distortion08 (Severity 1)\n"
     ]
    },
    {
     "data": {
      "application/vnd.jupyter.widget-view+json": {
       "model_id": "9b4631f41d0d41f4bfc2ab1168cd935f",
       "version_major": 2,
       "version_minor": 0
      },
      "text/plain": [
       "Evaluating distortion08 (Severity 2):   0%|          | 0/157 [00:00<?, ?it/s]"
      ]
     },
     "metadata": {},
     "output_type": "display_data"
    },
    {
     "name": "stdout",
     "output_type": "stream",
     "text": [
      "distortion08 (Severity 2)\n"
     ]
    },
    {
     "data": {
      "application/vnd.jupyter.widget-view+json": {
       "model_id": "f34177cf3bb84b42aef8b44f8b182cf4",
       "version_major": 2,
       "version_minor": 0
      },
      "text/plain": [
       "Evaluating distortion08 (Severity 3):   0%|          | 0/157 [00:00<?, ?it/s]"
      ]
     },
     "metadata": {},
     "output_type": "display_data"
    },
    {
     "name": "stdout",
     "output_type": "stream",
     "text": [
      "distortion08 (Severity 3)\n"
     ]
    },
    {
     "data": {
      "application/vnd.jupyter.widget-view+json": {
       "model_id": "52e460dc3ae74e3e89141b52db3039b1",
       "version_major": 2,
       "version_minor": 0
      },
      "text/plain": [
       "Evaluating distortion08 (Severity 4):   0%|          | 0/157 [00:00<?, ?it/s]"
      ]
     },
     "metadata": {},
     "output_type": "display_data"
    },
    {
     "name": "stdout",
     "output_type": "stream",
     "text": [
      "distortion08 (Severity 4)\n"
     ]
    },
    {
     "data": {
      "application/vnd.jupyter.widget-view+json": {
       "model_id": "e4742a3692fd49b4bfa8b5b12746e8cf",
       "version_major": 2,
       "version_minor": 0
      },
      "text/plain": [
       "Evaluating distortion08 (Severity 5):   0%|          | 0/157 [00:00<?, ?it/s]"
      ]
     },
     "metadata": {},
     "output_type": "display_data"
    },
    {
     "name": "stdout",
     "output_type": "stream",
     "text": [
      "distortion08 (Severity 5)\n"
     ]
    },
    {
     "data": {
      "application/vnd.jupyter.widget-view+json": {
       "model_id": "5b93e1be01f5434bbe7817d07f520053",
       "version_major": 2,
       "version_minor": 0
      },
      "text/plain": [
       "Evaluating distortion09 (Severity 1):   0%|          | 0/157 [00:00<?, ?it/s]"
      ]
     },
     "metadata": {},
     "output_type": "display_data"
    },
    {
     "name": "stdout",
     "output_type": "stream",
     "text": [
      "distortion09 (Severity 1)\n"
     ]
    },
    {
     "data": {
      "application/vnd.jupyter.widget-view+json": {
       "model_id": "8c8c887f674d4d7385d6df8419cf5630",
       "version_major": 2,
       "version_minor": 0
      },
      "text/plain": [
       "Evaluating distortion09 (Severity 2):   0%|          | 0/157 [00:00<?, ?it/s]"
      ]
     },
     "metadata": {},
     "output_type": "display_data"
    },
    {
     "name": "stdout",
     "output_type": "stream",
     "text": [
      "distortion09 (Severity 2)\n"
     ]
    },
    {
     "data": {
      "application/vnd.jupyter.widget-view+json": {
       "model_id": "7759847d8c684134b9f21a2bf08c4f8e",
       "version_major": 2,
       "version_minor": 0
      },
      "text/plain": [
       "Evaluating distortion09 (Severity 3):   0%|          | 0/157 [00:00<?, ?it/s]"
      ]
     },
     "metadata": {},
     "output_type": "display_data"
    },
    {
     "name": "stdout",
     "output_type": "stream",
     "text": [
      "distortion09 (Severity 3)\n"
     ]
    },
    {
     "data": {
      "application/vnd.jupyter.widget-view+json": {
       "model_id": "5bd78c1a9b3d458099a1c276d72eb443",
       "version_major": 2,
       "version_minor": 0
      },
      "text/plain": [
       "Evaluating distortion09 (Severity 4):   0%|          | 0/157 [00:00<?, ?it/s]"
      ]
     },
     "metadata": {},
     "output_type": "display_data"
    },
    {
     "name": "stdout",
     "output_type": "stream",
     "text": [
      "distortion09 (Severity 4)\n"
     ]
    },
    {
     "data": {
      "application/vnd.jupyter.widget-view+json": {
       "model_id": "00c4f77679ad4ea1a489bdae70d1a8ce",
       "version_major": 2,
       "version_minor": 0
      },
      "text/plain": [
       "Evaluating distortion09 (Severity 5):   0%|          | 0/157 [00:00<?, ?it/s]"
      ]
     },
     "metadata": {},
     "output_type": "display_data"
    },
    {
     "name": "stdout",
     "output_type": "stream",
     "text": [
      "distortion09 (Severity 5)\n"
     ]
    },
    {
     "data": {
      "application/vnd.jupyter.widget-view+json": {
       "model_id": "4d299794fe5d4bb097c9dc4c538c46fd",
       "version_major": 2,
       "version_minor": 0
      },
      "text/plain": [
       "Evaluating distortion10 (Severity 1):   0%|          | 0/157 [00:00<?, ?it/s]"
      ]
     },
     "metadata": {},
     "output_type": "display_data"
    },
    {
     "name": "stdout",
     "output_type": "stream",
     "text": [
      "distortion10 (Severity 1)\n"
     ]
    },
    {
     "data": {
      "application/vnd.jupyter.widget-view+json": {
       "model_id": "6355b3b0bf5c4a13aef47189f72ca4c9",
       "version_major": 2,
       "version_minor": 0
      },
      "text/plain": [
       "Evaluating distortion10 (Severity 2):   0%|          | 0/157 [00:00<?, ?it/s]"
      ]
     },
     "metadata": {},
     "output_type": "display_data"
    },
    {
     "name": "stdout",
     "output_type": "stream",
     "text": [
      "distortion10 (Severity 2)\n"
     ]
    },
    {
     "data": {
      "application/vnd.jupyter.widget-view+json": {
       "model_id": "53af2ae4694e4f15bb98b7e185357f03",
       "version_major": 2,
       "version_minor": 0
      },
      "text/plain": [
       "Evaluating distortion10 (Severity 3):   0%|          | 0/157 [00:00<?, ?it/s]"
      ]
     },
     "metadata": {},
     "output_type": "display_data"
    },
    {
     "name": "stdout",
     "output_type": "stream",
     "text": [
      "distortion10 (Severity 3)\n"
     ]
    },
    {
     "data": {
      "application/vnd.jupyter.widget-view+json": {
       "model_id": "f7ae3e5c06ae45669e797207b747ee3e",
       "version_major": 2,
       "version_minor": 0
      },
      "text/plain": [
       "Evaluating distortion10 (Severity 4):   0%|          | 0/157 [00:00<?, ?it/s]"
      ]
     },
     "metadata": {},
     "output_type": "display_data"
    },
    {
     "name": "stdout",
     "output_type": "stream",
     "text": [
      "distortion10 (Severity 4)\n"
     ]
    },
    {
     "data": {
      "application/vnd.jupyter.widget-view+json": {
       "model_id": "5857c9f8db3a40c893fe4fe76914636f",
       "version_major": 2,
       "version_minor": 0
      },
      "text/plain": [
       "Evaluating distortion10 (Severity 5):   0%|          | 0/157 [00:00<?, ?it/s]"
      ]
     },
     "metadata": {},
     "output_type": "display_data"
    },
    {
     "name": "stdout",
     "output_type": "stream",
     "text": [
      "distortion10 (Severity 5)\n"
     ]
    },
    {
     "data": {
      "application/vnd.jupyter.widget-view+json": {
       "model_id": "1c45c4ce8ea04575b15808ddb78357d5",
       "version_major": 2,
       "version_minor": 0
      },
      "text/plain": [
       "Evaluating distortion11 (Severity 1):   0%|          | 0/157 [00:00<?, ?it/s]"
      ]
     },
     "metadata": {},
     "output_type": "display_data"
    },
    {
     "name": "stdout",
     "output_type": "stream",
     "text": [
      "distortion11 (Severity 1)\n"
     ]
    },
    {
     "data": {
      "application/vnd.jupyter.widget-view+json": {
       "model_id": "cb0ae0a6a5f9423da8cd42b92602bdc0",
       "version_major": 2,
       "version_minor": 0
      },
      "text/plain": [
       "Evaluating distortion11 (Severity 2):   0%|          | 0/157 [00:00<?, ?it/s]"
      ]
     },
     "metadata": {},
     "output_type": "display_data"
    },
    {
     "name": "stdout",
     "output_type": "stream",
     "text": [
      "distortion11 (Severity 2)\n"
     ]
    },
    {
     "data": {
      "application/vnd.jupyter.widget-view+json": {
       "model_id": "ce4effe986ae4696ab7a7924a7e1d453",
       "version_major": 2,
       "version_minor": 0
      },
      "text/plain": [
       "Evaluating distortion11 (Severity 3):   0%|          | 0/157 [00:00<?, ?it/s]"
      ]
     },
     "metadata": {},
     "output_type": "display_data"
    },
    {
     "name": "stdout",
     "output_type": "stream",
     "text": [
      "distortion11 (Severity 3)\n"
     ]
    },
    {
     "data": {
      "application/vnd.jupyter.widget-view+json": {
       "model_id": "caf1c0b520eb489c9a3ea51c03129b2a",
       "version_major": 2,
       "version_minor": 0
      },
      "text/plain": [
       "Evaluating distortion11 (Severity 4):   0%|          | 0/157 [00:00<?, ?it/s]"
      ]
     },
     "metadata": {},
     "output_type": "display_data"
    },
    {
     "name": "stdout",
     "output_type": "stream",
     "text": [
      "distortion11 (Severity 4)\n"
     ]
    },
    {
     "data": {
      "application/vnd.jupyter.widget-view+json": {
       "model_id": "9e9f36b1a0c54a4fa7666f19c5e2a53a",
       "version_major": 2,
       "version_minor": 0
      },
      "text/plain": [
       "Evaluating distortion11 (Severity 5):   0%|          | 0/157 [00:00<?, ?it/s]"
      ]
     },
     "metadata": {},
     "output_type": "display_data"
    },
    {
     "name": "stdout",
     "output_type": "stream",
     "text": [
      "distortion11 (Severity 5)\n"
     ]
    },
    {
     "data": {
      "application/vnd.jupyter.widget-view+json": {
       "model_id": "f1cee55cf61b4004b245b39535220a85",
       "version_major": 2,
       "version_minor": 0
      },
      "text/plain": [
       "Evaluating distortion12 (Severity 1):   0%|          | 0/157 [00:00<?, ?it/s]"
      ]
     },
     "metadata": {},
     "output_type": "display_data"
    },
    {
     "name": "stdout",
     "output_type": "stream",
     "text": [
      "distortion12 (Severity 1)\n"
     ]
    },
    {
     "data": {
      "application/vnd.jupyter.widget-view+json": {
       "model_id": "7081768a77b54fc094bf14b1f24fd16c",
       "version_major": 2,
       "version_minor": 0
      },
      "text/plain": [
       "Evaluating distortion12 (Severity 2):   0%|          | 0/157 [00:00<?, ?it/s]"
      ]
     },
     "metadata": {},
     "output_type": "display_data"
    },
    {
     "name": "stdout",
     "output_type": "stream",
     "text": [
      "distortion12 (Severity 2)\n"
     ]
    },
    {
     "data": {
      "application/vnd.jupyter.widget-view+json": {
       "model_id": "b79fc20df715447c8dd3ed94c1878796",
       "version_major": 2,
       "version_minor": 0
      },
      "text/plain": [
       "Evaluating distortion12 (Severity 3):   0%|          | 0/157 [00:00<?, ?it/s]"
      ]
     },
     "metadata": {},
     "output_type": "display_data"
    },
    {
     "name": "stdout",
     "output_type": "stream",
     "text": [
      "distortion12 (Severity 3)\n"
     ]
    },
    {
     "data": {
      "application/vnd.jupyter.widget-view+json": {
       "model_id": "aa4a845214b44fb191f3d63b82518f48",
       "version_major": 2,
       "version_minor": 0
      },
      "text/plain": [
       "Evaluating distortion12 (Severity 4):   0%|          | 0/157 [00:00<?, ?it/s]"
      ]
     },
     "metadata": {},
     "output_type": "display_data"
    },
    {
     "name": "stdout",
     "output_type": "stream",
     "text": [
      "distortion12 (Severity 4)\n"
     ]
    },
    {
     "data": {
      "application/vnd.jupyter.widget-view+json": {
       "model_id": "725c1b89f46d4d8691bdd1fab6f8ec3e",
       "version_major": 2,
       "version_minor": 0
      },
      "text/plain": [
       "Evaluating distortion12 (Severity 5):   0%|          | 0/157 [00:00<?, ?it/s]"
      ]
     },
     "metadata": {},
     "output_type": "display_data"
    },
    {
     "name": "stdout",
     "output_type": "stream",
     "text": [
      "distortion12 (Severity 5)\n"
     ]
    },
    {
     "data": {
      "application/vnd.jupyter.widget-view+json": {
       "model_id": "9872e8c0ecb346b0aa135e37432045bb",
       "version_major": 2,
       "version_minor": 0
      },
      "text/plain": [
       "Evaluating distortion13 (Severity 1):   0%|          | 0/157 [00:00<?, ?it/s]"
      ]
     },
     "metadata": {},
     "output_type": "display_data"
    },
    {
     "name": "stdout",
     "output_type": "stream",
     "text": [
      "distortion13 (Severity 1)\n"
     ]
    },
    {
     "data": {
      "application/vnd.jupyter.widget-view+json": {
       "model_id": "ed4846dbf9ad40699e874dcba1d796f7",
       "version_major": 2,
       "version_minor": 0
      },
      "text/plain": [
       "Evaluating distortion13 (Severity 2):   0%|          | 0/157 [00:00<?, ?it/s]"
      ]
     },
     "metadata": {},
     "output_type": "display_data"
    },
    {
     "name": "stdout",
     "output_type": "stream",
     "text": [
      "distortion13 (Severity 2)\n"
     ]
    },
    {
     "data": {
      "application/vnd.jupyter.widget-view+json": {
       "model_id": "40c5daed42644ae0819c463dbf117401",
       "version_major": 2,
       "version_minor": 0
      },
      "text/plain": [
       "Evaluating distortion13 (Severity 3):   0%|          | 0/157 [00:00<?, ?it/s]"
      ]
     },
     "metadata": {},
     "output_type": "display_data"
    },
    {
     "name": "stdout",
     "output_type": "stream",
     "text": [
      "distortion13 (Severity 3)\n"
     ]
    },
    {
     "data": {
      "application/vnd.jupyter.widget-view+json": {
       "model_id": "3f734c36ec6c482ba7069caebf54a67a",
       "version_major": 2,
       "version_minor": 0
      },
      "text/plain": [
       "Evaluating distortion13 (Severity 4):   0%|          | 0/157 [00:00<?, ?it/s]"
      ]
     },
     "metadata": {},
     "output_type": "display_data"
    },
    {
     "name": "stdout",
     "output_type": "stream",
     "text": [
      "distortion13 (Severity 4)\n"
     ]
    },
    {
     "data": {
      "application/vnd.jupyter.widget-view+json": {
       "model_id": "9825af161c994fa0a6f40e94374238b7",
       "version_major": 2,
       "version_minor": 0
      },
      "text/plain": [
       "Evaluating distortion13 (Severity 5):   0%|          | 0/157 [00:00<?, ?it/s]"
      ]
     },
     "metadata": {},
     "output_type": "display_data"
    },
    {
     "name": "stdout",
     "output_type": "stream",
     "text": [
      "distortion13 (Severity 5)\n"
     ]
    },
    {
     "data": {
      "application/vnd.jupyter.widget-view+json": {
       "model_id": "b46c08680f374bc2bddd26e43e69be4c",
       "version_major": 2,
       "version_minor": 0
      },
      "text/plain": [
       "Evaluating distortion14 (Severity 1):   0%|          | 0/157 [00:00<?, ?it/s]"
      ]
     },
     "metadata": {},
     "output_type": "display_data"
    },
    {
     "name": "stdout",
     "output_type": "stream",
     "text": [
      "distortion14 (Severity 1)\n"
     ]
    },
    {
     "data": {
      "application/vnd.jupyter.widget-view+json": {
       "model_id": "4bf8734488be46329713a3d2c52f6e82",
       "version_major": 2,
       "version_minor": 0
      },
      "text/plain": [
       "Evaluating distortion14 (Severity 2):   0%|          | 0/157 [00:00<?, ?it/s]"
      ]
     },
     "metadata": {},
     "output_type": "display_data"
    },
    {
     "name": "stdout",
     "output_type": "stream",
     "text": [
      "distortion14 (Severity 2)\n"
     ]
    },
    {
     "data": {
      "application/vnd.jupyter.widget-view+json": {
       "model_id": "eedbf0bf54b9420586ca5c42a05c0ac8",
       "version_major": 2,
       "version_minor": 0
      },
      "text/plain": [
       "Evaluating distortion14 (Severity 3):   0%|          | 0/157 [00:00<?, ?it/s]"
      ]
     },
     "metadata": {},
     "output_type": "display_data"
    },
    {
     "name": "stdout",
     "output_type": "stream",
     "text": [
      "distortion14 (Severity 3)\n"
     ]
    },
    {
     "data": {
      "application/vnd.jupyter.widget-view+json": {
       "model_id": "cc67dfe713ee4c378c326b31787bc258",
       "version_major": 2,
       "version_minor": 0
      },
      "text/plain": [
       "Evaluating distortion14 (Severity 4):   0%|          | 0/157 [00:00<?, ?it/s]"
      ]
     },
     "metadata": {},
     "output_type": "display_data"
    },
    {
     "name": "stdout",
     "output_type": "stream",
     "text": [
      "distortion14 (Severity 4)\n"
     ]
    },
    {
     "data": {
      "application/vnd.jupyter.widget-view+json": {
       "model_id": "2af69dadff784df48ce55794b7522522",
       "version_major": 2,
       "version_minor": 0
      },
      "text/plain": [
       "Evaluating distortion14 (Severity 5):   0%|          | 0/157 [00:00<?, ?it/s]"
      ]
     },
     "metadata": {},
     "output_type": "display_data"
    },
    {
     "name": "stdout",
     "output_type": "stream",
     "text": [
      "distortion14 (Severity 5)\n"
     ]
    },
    {
     "data": {
      "application/vnd.jupyter.widget-view+json": {
       "model_id": "799bddd09bf6444aba38ab20038aae52",
       "version_major": 2,
       "version_minor": 0
      },
      "text/plain": [
       "Evaluating distortion15 (Severity 1):   0%|          | 0/157 [00:00<?, ?it/s]"
      ]
     },
     "metadata": {},
     "output_type": "display_data"
    },
    {
     "name": "stdout",
     "output_type": "stream",
     "text": [
      "distortion15 (Severity 1)\n"
     ]
    },
    {
     "data": {
      "application/vnd.jupyter.widget-view+json": {
       "model_id": "e67710f479814485b418950ce1818c68",
       "version_major": 2,
       "version_minor": 0
      },
      "text/plain": [
       "Evaluating distortion15 (Severity 2):   0%|          | 0/157 [00:00<?, ?it/s]"
      ]
     },
     "metadata": {},
     "output_type": "display_data"
    },
    {
     "name": "stdout",
     "output_type": "stream",
     "text": [
      "distortion15 (Severity 2)\n"
     ]
    },
    {
     "data": {
      "application/vnd.jupyter.widget-view+json": {
       "model_id": "6b6bcea2e4f74422b4f2263323e66873",
       "version_major": 2,
       "version_minor": 0
      },
      "text/plain": [
       "Evaluating distortion15 (Severity 3):   0%|          | 0/157 [00:00<?, ?it/s]"
      ]
     },
     "metadata": {},
     "output_type": "display_data"
    },
    {
     "name": "stdout",
     "output_type": "stream",
     "text": [
      "distortion15 (Severity 3)\n"
     ]
    },
    {
     "data": {
      "application/vnd.jupyter.widget-view+json": {
       "model_id": "3ab588cfa7fa483e96069ceb4347d969",
       "version_major": 2,
       "version_minor": 0
      },
      "text/plain": [
       "Evaluating distortion15 (Severity 4):   0%|          | 0/157 [00:00<?, ?it/s]"
      ]
     },
     "metadata": {},
     "output_type": "display_data"
    },
    {
     "name": "stdout",
     "output_type": "stream",
     "text": [
      "distortion15 (Severity 4)\n"
     ]
    },
    {
     "data": {
      "application/vnd.jupyter.widget-view+json": {
       "model_id": "e0a3aaf87842402d8a53bee1cdd597c3",
       "version_major": 2,
       "version_minor": 0
      },
      "text/plain": [
       "Evaluating distortion15 (Severity 5):   0%|          | 0/157 [00:00<?, ?it/s]"
      ]
     },
     "metadata": {},
     "output_type": "display_data"
    },
    {
     "name": "stdout",
     "output_type": "stream",
     "text": [
      "distortion15 (Severity 5)\n"
     ]
    },
    {
     "data": {
      "application/vnd.jupyter.widget-view+json": {
       "model_id": "9a2a22210bf74c2f840785113f4864ee",
       "version_major": 2,
       "version_minor": 0
      },
      "text/plain": [
       "Evaluating distortion16 (Severity 1):   0%|          | 0/157 [00:00<?, ?it/s]"
      ]
     },
     "metadata": {},
     "output_type": "display_data"
    },
    {
     "name": "stdout",
     "output_type": "stream",
     "text": [
      "distortion16 (Severity 1)\n"
     ]
    },
    {
     "data": {
      "application/vnd.jupyter.widget-view+json": {
       "model_id": "fdf8dcdceb5a4cbdb7e435b65f9c0d71",
       "version_major": 2,
       "version_minor": 0
      },
      "text/plain": [
       "Evaluating distortion16 (Severity 2):   0%|          | 0/157 [00:00<?, ?it/s]"
      ]
     },
     "metadata": {},
     "output_type": "display_data"
    },
    {
     "name": "stdout",
     "output_type": "stream",
     "text": [
      "distortion16 (Severity 2)\n"
     ]
    },
    {
     "data": {
      "application/vnd.jupyter.widget-view+json": {
       "model_id": "e6928551d2b64c509e94172ef31656bb",
       "version_major": 2,
       "version_minor": 0
      },
      "text/plain": [
       "Evaluating distortion16 (Severity 3):   0%|          | 0/157 [00:00<?, ?it/s]"
      ]
     },
     "metadata": {},
     "output_type": "display_data"
    },
    {
     "name": "stdout",
     "output_type": "stream",
     "text": [
      "distortion16 (Severity 3)\n"
     ]
    },
    {
     "data": {
      "application/vnd.jupyter.widget-view+json": {
       "model_id": "adc606c562944eb19d43444156c0e23e",
       "version_major": 2,
       "version_minor": 0
      },
      "text/plain": [
       "Evaluating distortion16 (Severity 4):   0%|          | 0/157 [00:00<?, ?it/s]"
      ]
     },
     "metadata": {},
     "output_type": "display_data"
    },
    {
     "name": "stdout",
     "output_type": "stream",
     "text": [
      "distortion16 (Severity 4)\n"
     ]
    },
    {
     "data": {
      "application/vnd.jupyter.widget-view+json": {
       "model_id": "85ca0afa899d4c2b88b2364c2b3131cd",
       "version_major": 2,
       "version_minor": 0
      },
      "text/plain": [
       "Evaluating distortion16 (Severity 5):   0%|          | 0/157 [00:00<?, ?it/s]"
      ]
     },
     "metadata": {},
     "output_type": "display_data"
    },
    {
     "name": "stdout",
     "output_type": "stream",
     "text": [
      "distortion16 (Severity 5)\n"
     ]
    },
    {
     "data": {
      "application/vnd.jupyter.widget-view+json": {
       "model_id": "b094ca07070a44be9adec51f3b752362",
       "version_major": 2,
       "version_minor": 0
      },
      "text/plain": [
       "Evaluating distortion17 (Severity 1):   0%|          | 0/157 [00:00<?, ?it/s]"
      ]
     },
     "metadata": {},
     "output_type": "display_data"
    },
    {
     "name": "stdout",
     "output_type": "stream",
     "text": [
      "distortion17 (Severity 1)\n"
     ]
    },
    {
     "data": {
      "application/vnd.jupyter.widget-view+json": {
       "model_id": "868769a90ed04f21bde2b46fac8e06d9",
       "version_major": 2,
       "version_minor": 0
      },
      "text/plain": [
       "Evaluating distortion17 (Severity 2):   0%|          | 0/157 [00:00<?, ?it/s]"
      ]
     },
     "metadata": {},
     "output_type": "display_data"
    },
    {
     "name": "stdout",
     "output_type": "stream",
     "text": [
      "distortion17 (Severity 2)\n"
     ]
    },
    {
     "data": {
      "application/vnd.jupyter.widget-view+json": {
       "model_id": "9265b38c331e48acb867aa9b8832c14e",
       "version_major": 2,
       "version_minor": 0
      },
      "text/plain": [
       "Evaluating distortion17 (Severity 3):   0%|          | 0/157 [00:00<?, ?it/s]"
      ]
     },
     "metadata": {},
     "output_type": "display_data"
    },
    {
     "name": "stdout",
     "output_type": "stream",
     "text": [
      "distortion17 (Severity 3)\n"
     ]
    },
    {
     "data": {
      "application/vnd.jupyter.widget-view+json": {
       "model_id": "8fb0f3a7f1c34fbabcb3db880f9deaa2",
       "version_major": 2,
       "version_minor": 0
      },
      "text/plain": [
       "Evaluating distortion17 (Severity 4):   0%|          | 0/157 [00:00<?, ?it/s]"
      ]
     },
     "metadata": {},
     "output_type": "display_data"
    },
    {
     "name": "stdout",
     "output_type": "stream",
     "text": [
      "distortion17 (Severity 4)\n"
     ]
    },
    {
     "data": {
      "application/vnd.jupyter.widget-view+json": {
       "model_id": "06f9c37d35634caab7f665291464166c",
       "version_major": 2,
       "version_minor": 0
      },
      "text/plain": [
       "Evaluating distortion17 (Severity 5):   0%|          | 0/157 [00:00<?, ?it/s]"
      ]
     },
     "metadata": {},
     "output_type": "display_data"
    },
    {
     "name": "stdout",
     "output_type": "stream",
     "text": [
      "distortion17 (Severity 5)\n"
     ]
    },
    {
     "data": {
      "application/vnd.jupyter.widget-view+json": {
       "model_id": "f9743178a190401ab85408606d6efec5",
       "version_major": 2,
       "version_minor": 0
      },
      "text/plain": [
       "Evaluating distortion18 (Severity 1):   0%|          | 0/157 [00:00<?, ?it/s]"
      ]
     },
     "metadata": {},
     "output_type": "display_data"
    },
    {
     "name": "stdout",
     "output_type": "stream",
     "text": [
      "distortion18 (Severity 1)\n"
     ]
    },
    {
     "data": {
      "application/vnd.jupyter.widget-view+json": {
       "model_id": "a58aae2a8eef4359a77da515d2911326",
       "version_major": 2,
       "version_minor": 0
      },
      "text/plain": [
       "Evaluating distortion18 (Severity 2):   0%|          | 0/157 [00:00<?, ?it/s]"
      ]
     },
     "metadata": {},
     "output_type": "display_data"
    },
    {
     "name": "stdout",
     "output_type": "stream",
     "text": [
      "distortion18 (Severity 2)\n"
     ]
    },
    {
     "data": {
      "application/vnd.jupyter.widget-view+json": {
       "model_id": "be15ecdf4cb64350bdc46acca91cc0be",
       "version_major": 2,
       "version_minor": 0
      },
      "text/plain": [
       "Evaluating distortion18 (Severity 3):   0%|          | 0/157 [00:00<?, ?it/s]"
      ]
     },
     "metadata": {},
     "output_type": "display_data"
    },
    {
     "name": "stdout",
     "output_type": "stream",
     "text": [
      "distortion18 (Severity 3)\n"
     ]
    },
    {
     "data": {
      "application/vnd.jupyter.widget-view+json": {
       "model_id": "92445833cc4141139a5ad7365ea9a72d",
       "version_major": 2,
       "version_minor": 0
      },
      "text/plain": [
       "Evaluating distortion18 (Severity 4):   0%|          | 0/157 [00:00<?, ?it/s]"
      ]
     },
     "metadata": {},
     "output_type": "display_data"
    },
    {
     "name": "stdout",
     "output_type": "stream",
     "text": [
      "distortion18 (Severity 4)\n"
     ]
    },
    {
     "data": {
      "application/vnd.jupyter.widget-view+json": {
       "model_id": "f9fe42303ea448ee9261751d7abd1381",
       "version_major": 2,
       "version_minor": 0
      },
      "text/plain": [
       "Evaluating distortion18 (Severity 5):   0%|          | 0/157 [00:00<?, ?it/s]"
      ]
     },
     "metadata": {},
     "output_type": "display_data"
    },
    {
     "name": "stdout",
     "output_type": "stream",
     "text": [
      "distortion18 (Severity 5)\n",
      "submission_ood_part2.csv created successfully.\n"
     ]
    }
   ],
   "source": [
    "import torch\n",
    "import torch.nn as nn\n",
    "import torch.nn.functional as F\n",
    "import torch.optim as optim\n",
    "import torchvision\n",
    "import torchvision.transforms as transforms\n",
    "import torchvision.models as models  # Import models from torchvision\n",
    "import os\n",
    "import numpy as np\n",
    "import pandas as pd\n",
    "from tqdm.auto import tqdm  # For progress bars\n",
    "import wandb\n",
    "import json\n",
    "\n",
    "\n",
    "################################################################################\n",
    "# Model Definition for Part 2 - Using a more sophisticated CNN model\n",
    "################################################################################\n",
    "class AdvancedCNN(nn.Module):\n",
    "    def __init__(self, num_classes=100):\n",
    "        super(AdvancedCNN, self).__init__()\n",
    "        # Use ResNet18 model, and we won't use pretrained weights since that's for Part 3\n",
    "        self.model = models.resnet18(pretrained=False)\n",
    "\n",
    "        # The first convolution layer\n",
    "        self.model.conv1 = nn.Conv2d(3, 64, kernel_size=3, stride=1, padding=1, bias=False)\n",
    "\n",
    "        # AI: Remove the default max pooling to preserve spatial resolution\n",
    "        \"\"\"The original ResNet18 applies a max pooling layer with a kernel size of 3 and a stride of 2 \n",
    "        immediately after the first convolution, which significantly reduces the spatial resolution. \n",
    "        For 32×32 images, this pooling operation may remove too much spatial information. \n",
    "        Therefore, replacing it with `nn.Identity()` (i.e., no pooling) \n",
    "        helps preserve important details that are critical for classification.\"\"\"\n",
    "        self.model.maxpool = nn.Identity()\n",
    "\n",
    "        # Replace the final fully connected layer for 100 classes\n",
    "        self.model.fc = nn.Linear(self.model.fc.in_features, num_classes)\n",
    "\n",
    "    def forward(self, x):\n",
    "        return self.model(x)\n",
    "\n",
    "\n",
    "################################################################################\n",
    "# Define a one epoch training function\n",
    "################################################################################\n",
    "def train(epoch, model, trainloader, optimizer, criterion, CONFIG):\n",
    "    \"\"\"Train one epoch, e.g. all batches of one epoch.\"\"\"\n",
    "    device = CONFIG[\"device\"]\n",
    "    model.train()  # Set the model to training mode\n",
    "    running_loss = 0.0\n",
    "    correct = 0\n",
    "    total = 0\n",
    "\n",
    "    # put the trainloader iterator in a tqdm so it can printprogress\n",
    "    progress_bar = tqdm(trainloader, desc=f\"Epoch {epoch + 1}/{CONFIG['epochs']} [Train]\", leave=False)\n",
    "\n",
    "    # iterate through all batches of one epoch\n",
    "    for i, (inputs, labels) in enumerate(progress_bar):\n",
    "        # move inputs and labels to the target device\n",
    "        inputs, labels = inputs.to(device), labels.to(device)\n",
    "        \n",
    "        # TODO - Your code here\n",
    "        # Clear the gradients\n",
    "        optimizer.zero_grad()\n",
    "        # Get the model output\n",
    "        outputs = model(inputs)\n",
    "        # Compute loss\n",
    "        loss = criterion(outputs, labels)\n",
    "        # Compute gradients\n",
    "        loss.backward()\n",
    "        # Update the model parameter\n",
    "        optimizer.step()\n",
    "        \n",
    "        # Accumulate the loss value\n",
    "        running_loss += loss.item()   ### TODO\n",
    "        # Get the predicted classes\n",
    "        _, predicted = outputs.max(1)    ### TODO\n",
    "\n",
    "        total += labels.size(0)\n",
    "        correct += predicted.eq(labels).sum().item()\n",
    "\n",
    "        progress_bar.set_postfix({\"loss\": running_loss / (i + 1), \"acc\": 100. * correct / total})\n",
    "\n",
    "    train_loss = running_loss / len(trainloader)\n",
    "    train_acc = 100. * correct / total\n",
    "    return train_loss, train_acc\n",
    "\n",
    "\n",
    "################################################################################\n",
    "# Define a validation function\n",
    "################################################################################\n",
    "def validate(model, valloader, criterion, device):\n",
    "    \"\"\"Validate the model\"\"\"\n",
    "    model.eval()  # Set to evaluation\n",
    "    running_loss = 0.0\n",
    "    correct = 0\n",
    "    total = 0\n",
    "\n",
    "    with torch.no_grad():  # No need to track gradients\n",
    "\n",
    "        # Put the valloader iterator in tqdm to print progress\n",
    "        progress_bar = tqdm(valloader, desc=\"[Validate]\", leave=False)\n",
    "\n",
    "        # Iterate throught the validation set\n",
    "        for i, (inputs, labels) in enumerate(progress_bar):\n",
    "            # move inputs and labels to the target device\n",
    "            inputs, labels = inputs.to(device), labels.to(device)\n",
    "\n",
    "            outputs = model(inputs)  ### TODO -- inference\n",
    "            loss = criterion(outputs, labels)  ### TODO -- loss calculation\n",
    "\n",
    "            running_loss += loss.item()\n",
    "            _, predicted = torch.max(outputs, 1)\n",
    "\n",
    "            total += labels.size(0)\n",
    "            correct += predicted.eq(labels).sum().item()\n",
    "\n",
    "            progress_bar.set_postfix({\"loss\": running_loss / (i + 1), \"acc\": 100. * correct / total})\n",
    "\n",
    "    val_loss = running_loss / len(valloader)\n",
    "    val_acc = 100. * correct / total\n",
    "    return val_loss, val_acc\n",
    "\n",
    "\n",
    "def main():\n",
    "    ############################################################################\n",
    "    #    Configuration Dictionary (Modify as needed)\n",
    "    ############################################################################\n",
    "    # Updated configuration for Part 2 with appropriate hyperparameters\n",
    "    CONFIG = {\n",
    "        \"model\": \"AdvancedCNN\",  # Changed model name\n",
    "        \"batch_size\": 64,\n",
    "        \"learning_rate\": 0.005,  # Adjusted learning rate for the bigger model\n",
    "        \"epochs\": 5,  # Increased epochs for better convergence\n",
    "        \"num_workers\": 4,\n",
    "        \"device\": \"mps\" if torch.backends.mps.is_available() else \"cuda\" if torch.cuda.is_available() else \"cpu\",\n",
    "        \"data_dir\": \"./data\",\n",
    "        \"ood_dir\": \"./data/ood-test\",\n",
    "        \"wandb_project\": \"sp25-ds542-challenge\",\n",
    "        \"seed\": 42,\n",
    "    }\n",
    "\n",
    "    import pprint\n",
    "    print(\"\\nCONFIG Dictionary:\")\n",
    "    pprint.pprint(CONFIG)\n",
    "\n",
    "    ############################################################################\n",
    "    #      Data Transformation (Enhanced for Part 2)\n",
    "    ############################################################################\n",
    "    # Better model generalization\n",
    "    # AI: Common improvement methods to improve the diversity of the training data and the generalization ability of the model\n",
    "    transform_train = transforms.Compose([\n",
    "        transforms.RandomCrop(32, padding=4),  # Add padding and random crop\n",
    "        transforms.RandomHorizontalFlip(),  # Random horizontal flip\n",
    "        transforms.ToTensor(),\n",
    "        # CIFAR-100 specific normalization values\n",
    "        transforms.Normalize((0.5071, 0.4867, 0.4408), \n",
    "                             (0.2675, 0.2565, 0.2761)),\n",
    "    ])\n",
    "\n",
    "    ###############\n",
    "    # TODO Add validation and test transforms - NO augmentation for validation/test\n",
    "    ###############\n",
    "\n",
    "    # Validation and test transforms (NO augmentation)\n",
    "    # AI: Standardized parameters for CIFAR-100\n",
    "    transform_test = transforms.Compose([\n",
    "        transforms.ToTensor(),\n",
    "        transforms.Normalize((0.5071, 0.4867, 0.4408), (0.2675, 0.2565, 0.2761))\n",
    "    ])  ### TODO -- BEGIN SOLUTION\n",
    "\n",
    "    ############################################################################\n",
    "    #       Data Loading\n",
    "    ############################################################################\n",
    "\n",
    "    trainset = torchvision.datasets.CIFAR100(root='./data', train=True,\n",
    "                                             download=True, transform=transform_train)\n",
    "\n",
    "    # Split train into train and validation (80/20 split)\n",
    "    train_size = int(0.8 * len(trainset))  ### TODO -- Calculate training set size\n",
    "    val_size = len(trainset) - train_size   ### TODO -- Calculate validation set size\n",
    "    trainset, valset = torch.utils.data.random_split(trainset, [train_size, val_size])\n",
    "\n",
    "    ### TODO -- define loaders and test set\n",
    "    # Create Dataloader for training data\n",
    "    trainloader = torch.utils.data.DataLoader(trainset, batch_size = CONFIG[\"batch_size\"], shuffle = True, num_workers = CONFIG[\"num_workers\"])\n",
    "    # Create DataLoader for validation data\n",
    "    valloader = torch.utils.data.DataLoader(valset, batch_size = CONFIG[\"batch_size\"], shuffle = False, num_workers = CONFIG[\"num_workers\"])\n",
    "\n",
    "    # ... (Create validation and test loaders)\n",
    "    testset = torchvision.datasets.CIFAR100(root='./data', train=False, download=True, transform=transform_test)\n",
    "    testloader = torch.utils.data.DataLoader(testset, batch_size = CONFIG[\"batch_size\"], shuffle = False, num_workers = CONFIG[\"num_workers\"])\n",
    "\n",
    "    ############################################################################\n",
    "    #   Instantiate model and move to target device\n",
    "    ############################################################################\n",
    "    model = AdvancedCNN(num_classes=100)  # Using advanced model for Part 2\n",
    "    model = model.to(CONFIG[\"device\"])\n",
    "\n",
    "    print(\"\\nModel summary:\")\n",
    "    print(f\"{model}\\n\")\n",
    "\n",
    "    # The following code you can run once to find the batch size that gives you the fastest throughput.\n",
    "    # You only have to do this once for each machine you use, then you can just\n",
    "    # set it in CONFIG.\n",
    "    SEARCH_BATCH_SIZES = False\n",
    "    if SEARCH_BATCH_SIZES:\n",
    "        from utils import find_optimal_batch_size\n",
    "        print(\"Finding optimal batch size...\")\n",
    "        optimal_batch_size = find_optimal_batch_size(model, trainset, CONFIG[\"device\"], CONFIG[\"num_workers\"])\n",
    "        CONFIG[\"batch_size\"] = optimal_batch_size\n",
    "        print(f\"Using batch size: {CONFIG['batch_size']}\")\n",
    "\n",
    "    ############################################################################\n",
    "    # Loss Function, Optimizer and optional learning rate scheduler\n",
    "    ############################################################################\n",
    "    # Use cross-entropy for classification\n",
    "    # AI: For CIFAR-100, it's better to choose nn.CrossEntropyLoss\n",
    "    criterion = nn.CrossEntropyLoss()   ### TODO -- define loss criterion\n",
    "    # Use SGD with momentum and weight decay\n",
    "    # AI: For CIFAR-100, it's better to choose SGD\n",
    "    optimizer = optim.SGD(model.parameters(), lr=CONFIG[\"learning_rate\"], momentum=0.9, weight_decay = 5e-4)   ### TODO -- define optimizer\n",
    "    # Improved learning rate scheduler(from StepLR to CosineAnnealingLR)\n",
    "    \"\"\"CosineAnnealingLR offers a smooth, continuous decay of the learning rate instead of the sudden drops seen with StepLR. \n",
    "    This gradual change results in more stable training during later stages, \n",
    "    leading to better convergence and improved final performance.\"\"\"\n",
    "    scheduler = optim.lr_scheduler.CosineAnnealingLR(optimizer, T_max=CONFIG[\"epochs\"])  # Add a scheduler   ### TODO -- you can optionally add a LR scheduler\n",
    "\n",
    "    # Initialize wandb\n",
    "    wandb.init(project=\"-sp25-ds542-challenge\", config=CONFIG)\n",
    "    wandb.watch(model)  # watch the model gradients\n",
    "\n",
    "    ############################################################################\n",
    "    # --- Training Loop ---\n",
    "    ############################################################################\n",
    "    best_val_acc = 0.0\n",
    "\n",
    "    for epoch in range(CONFIG[\"epochs\"]):\n",
    "        train_loss, train_acc = train(epoch, model, trainloader, optimizer, criterion, CONFIG)\n",
    "        val_loss, val_acc = validate(model, valloader, criterion, CONFIG[\"device\"])\n",
    "        scheduler.step()\n",
    "\n",
    "        # log to WandB\n",
    "        wandb.log({\n",
    "            \"epoch\": epoch + 1,\n",
    "            \"train_loss\": train_loss,\n",
    "            \"train_acc\": train_acc,\n",
    "            \"val_loss\": val_loss,\n",
    "            \"val_acc\": val_acc,\n",
    "            \"lr\": optimizer.param_groups[0][\"lr\"]  # Log learning rate\n",
    "        })\n",
    "\n",
    "        # Save the best model (based on validation accuracy)\n",
    "        if val_acc > best_val_acc:\n",
    "            best_val_acc = val_acc\n",
    "            torch.save(model.state_dict(), \"best_model.pth\")\n",
    "            wandb.save(\"best_model.pth\")\n",
    "\n",
    "    wandb.finish()\n",
    "\n",
    "    ############################################################################\n",
    "    # Evaluation -- shouldn't have to change the following code\n",
    "    ############################################################################\n",
    "    import eval_cifar100\n",
    "    import eval_ood\n",
    "\n",
    "    # --- Evaluation on Clean CIFAR-100 Test Set ---\n",
    "    predictions, clean_accuracy = eval_cifar100.evaluate_cifar100_test(model, testloader, CONFIG[\"device\"])\n",
    "    print(f\"Clean CIFAR-100 Test Accuracy: {clean_accuracy:.2f}%\")\n",
    "\n",
    "    # --- Evaluation on OOD ---\n",
    "    all_predictions = eval_ood.evaluate_ood_test(model, CONFIG)\n",
    "\n",
    "    # --- Create Submission File (OOD) ---\n",
    "    submission_df_ood = eval_ood.create_ood_df(all_predictions)\n",
    "    submission_df_ood.to_csv(\"submission_ood_part2.csv\", index=False)\n",
    "    print(\"submission_ood_part2.csv created successfully.\")\n",
    "\n",
    "\n",
    "if __name__ == '__main__':\n",
    "    main()\n"
   ]
  }
 ],
 "metadata": {
  "kernelspec": {
   "display_name": "Python 3 (ipykernel)",
   "language": "python",
   "name": "python3"
  },
  "language_info": {
   "codemirror_mode": {
    "name": "ipython",
    "version": 3
   },
   "file_extension": ".py",
   "mimetype": "text/x-python",
   "name": "python",
   "nbconvert_exporter": "python",
   "pygments_lexer": "ipython3",
   "version": "3.10.12"
  }
 },
 "nbformat": 4,
 "nbformat_minor": 5
}
